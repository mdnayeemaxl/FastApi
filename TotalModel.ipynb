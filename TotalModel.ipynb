{
  "nbformat": 4,
  "nbformat_minor": 0,
  "metadata": {
    "colab": {
      "provenance": []
    },
    "kernelspec": {
      "name": "python3",
      "display_name": "Python 3"
    },
    "language_info": {
      "name": "python"
    },
    "widgets": {
      "application/vnd.jupyter.widget-state+json": {
        "820fb6bf90c146199660f5b0fbca036f": {
          "model_module": "@jupyter-widgets/controls",
          "model_name": "HBoxModel",
          "model_module_version": "1.5.0",
          "state": {
            "_dom_classes": [],
            "_model_module": "@jupyter-widgets/controls",
            "_model_module_version": "1.5.0",
            "_model_name": "HBoxModel",
            "_view_count": null,
            "_view_module": "@jupyter-widgets/controls",
            "_view_module_version": "1.5.0",
            "_view_name": "HBoxView",
            "box_style": "",
            "children": [
              "IPY_MODEL_488eabe07a474cbd9dda278cfb2d35e0",
              "IPY_MODEL_8734f9c7e5a041d3bec8c48b7a94321b",
              "IPY_MODEL_ac5f6ff4e2d34d36902fb236d4b1de42"
            ],
            "layout": "IPY_MODEL_443fcfc0c5b74165977b95c607e5ac5e"
          }
        },
        "488eabe07a474cbd9dda278cfb2d35e0": {
          "model_module": "@jupyter-widgets/controls",
          "model_name": "HTMLModel",
          "model_module_version": "1.5.0",
          "state": {
            "_dom_classes": [],
            "_model_module": "@jupyter-widgets/controls",
            "_model_module_version": "1.5.0",
            "_model_name": "HTMLModel",
            "_view_count": null,
            "_view_module": "@jupyter-widgets/controls",
            "_view_module_version": "1.5.0",
            "_view_name": "HTMLView",
            "description": "",
            "description_tooltip": null,
            "layout": "IPY_MODEL_66cccb1dd12d43b6b71a08fbecdbfe99",
            "placeholder": "​",
            "style": "IPY_MODEL_c87cfd0753704d3c8a1911bcccce9702",
            "value": "Downloading: 100%"
          }
        },
        "8734f9c7e5a041d3bec8c48b7a94321b": {
          "model_module": "@jupyter-widgets/controls",
          "model_name": "FloatProgressModel",
          "model_module_version": "1.5.0",
          "state": {
            "_dom_classes": [],
            "_model_module": "@jupyter-widgets/controls",
            "_model_module_version": "1.5.0",
            "_model_name": "FloatProgressModel",
            "_view_count": null,
            "_view_module": "@jupyter-widgets/controls",
            "_view_module_version": "1.5.0",
            "_view_name": "ProgressView",
            "bar_style": "success",
            "description": "",
            "description_tooltip": null,
            "layout": "IPY_MODEL_cc9c4a3886f34f7088b79111cb22aaba",
            "max": 1585,
            "min": 0,
            "orientation": "horizontal",
            "style": "IPY_MODEL_104ac6c60594410a843aef5d19f4607c",
            "value": 1585
          }
        },
        "ac5f6ff4e2d34d36902fb236d4b1de42": {
          "model_module": "@jupyter-widgets/controls",
          "model_name": "HTMLModel",
          "model_module_version": "1.5.0",
          "state": {
            "_dom_classes": [],
            "_model_module": "@jupyter-widgets/controls",
            "_model_module_version": "1.5.0",
            "_model_name": "HTMLModel",
            "_view_count": null,
            "_view_module": "@jupyter-widgets/controls",
            "_view_module_version": "1.5.0",
            "_view_name": "HTMLView",
            "description": "",
            "description_tooltip": null,
            "layout": "IPY_MODEL_e6c197a0902746f282f549f6effb153b",
            "placeholder": "​",
            "style": "IPY_MODEL_89ee44f536d2459bb6bdb53085662815",
            "value": " 1.58k/1.58k [00:00&lt;00:00, 51.6kB/s]"
          }
        },
        "443fcfc0c5b74165977b95c607e5ac5e": {
          "model_module": "@jupyter-widgets/base",
          "model_name": "LayoutModel",
          "model_module_version": "1.2.0",
          "state": {
            "_model_module": "@jupyter-widgets/base",
            "_model_module_version": "1.2.0",
            "_model_name": "LayoutModel",
            "_view_count": null,
            "_view_module": "@jupyter-widgets/base",
            "_view_module_version": "1.2.0",
            "_view_name": "LayoutView",
            "align_content": null,
            "align_items": null,
            "align_self": null,
            "border": null,
            "bottom": null,
            "display": null,
            "flex": null,
            "flex_flow": null,
            "grid_area": null,
            "grid_auto_columns": null,
            "grid_auto_flow": null,
            "grid_auto_rows": null,
            "grid_column": null,
            "grid_gap": null,
            "grid_row": null,
            "grid_template_areas": null,
            "grid_template_columns": null,
            "grid_template_rows": null,
            "height": null,
            "justify_content": null,
            "justify_items": null,
            "left": null,
            "margin": null,
            "max_height": null,
            "max_width": null,
            "min_height": null,
            "min_width": null,
            "object_fit": null,
            "object_position": null,
            "order": null,
            "overflow": null,
            "overflow_x": null,
            "overflow_y": null,
            "padding": null,
            "right": null,
            "top": null,
            "visibility": null,
            "width": null
          }
        },
        "66cccb1dd12d43b6b71a08fbecdbfe99": {
          "model_module": "@jupyter-widgets/base",
          "model_name": "LayoutModel",
          "model_module_version": "1.2.0",
          "state": {
            "_model_module": "@jupyter-widgets/base",
            "_model_module_version": "1.2.0",
            "_model_name": "LayoutModel",
            "_view_count": null,
            "_view_module": "@jupyter-widgets/base",
            "_view_module_version": "1.2.0",
            "_view_name": "LayoutView",
            "align_content": null,
            "align_items": null,
            "align_self": null,
            "border": null,
            "bottom": null,
            "display": null,
            "flex": null,
            "flex_flow": null,
            "grid_area": null,
            "grid_auto_columns": null,
            "grid_auto_flow": null,
            "grid_auto_rows": null,
            "grid_column": null,
            "grid_gap": null,
            "grid_row": null,
            "grid_template_areas": null,
            "grid_template_columns": null,
            "grid_template_rows": null,
            "height": null,
            "justify_content": null,
            "justify_items": null,
            "left": null,
            "margin": null,
            "max_height": null,
            "max_width": null,
            "min_height": null,
            "min_width": null,
            "object_fit": null,
            "object_position": null,
            "order": null,
            "overflow": null,
            "overflow_x": null,
            "overflow_y": null,
            "padding": null,
            "right": null,
            "top": null,
            "visibility": null,
            "width": null
          }
        },
        "c87cfd0753704d3c8a1911bcccce9702": {
          "model_module": "@jupyter-widgets/controls",
          "model_name": "DescriptionStyleModel",
          "model_module_version": "1.5.0",
          "state": {
            "_model_module": "@jupyter-widgets/controls",
            "_model_module_version": "1.5.0",
            "_model_name": "DescriptionStyleModel",
            "_view_count": null,
            "_view_module": "@jupyter-widgets/base",
            "_view_module_version": "1.2.0",
            "_view_name": "StyleView",
            "description_width": ""
          }
        },
        "cc9c4a3886f34f7088b79111cb22aaba": {
          "model_module": "@jupyter-widgets/base",
          "model_name": "LayoutModel",
          "model_module_version": "1.2.0",
          "state": {
            "_model_module": "@jupyter-widgets/base",
            "_model_module_version": "1.2.0",
            "_model_name": "LayoutModel",
            "_view_count": null,
            "_view_module": "@jupyter-widgets/base",
            "_view_module_version": "1.2.0",
            "_view_name": "LayoutView",
            "align_content": null,
            "align_items": null,
            "align_self": null,
            "border": null,
            "bottom": null,
            "display": null,
            "flex": null,
            "flex_flow": null,
            "grid_area": null,
            "grid_auto_columns": null,
            "grid_auto_flow": null,
            "grid_auto_rows": null,
            "grid_column": null,
            "grid_gap": null,
            "grid_row": null,
            "grid_template_areas": null,
            "grid_template_columns": null,
            "grid_template_rows": null,
            "height": null,
            "justify_content": null,
            "justify_items": null,
            "left": null,
            "margin": null,
            "max_height": null,
            "max_width": null,
            "min_height": null,
            "min_width": null,
            "object_fit": null,
            "object_position": null,
            "order": null,
            "overflow": null,
            "overflow_x": null,
            "overflow_y": null,
            "padding": null,
            "right": null,
            "top": null,
            "visibility": null,
            "width": null
          }
        },
        "104ac6c60594410a843aef5d19f4607c": {
          "model_module": "@jupyter-widgets/controls",
          "model_name": "ProgressStyleModel",
          "model_module_version": "1.5.0",
          "state": {
            "_model_module": "@jupyter-widgets/controls",
            "_model_module_version": "1.5.0",
            "_model_name": "ProgressStyleModel",
            "_view_count": null,
            "_view_module": "@jupyter-widgets/base",
            "_view_module_version": "1.2.0",
            "_view_name": "StyleView",
            "bar_color": null,
            "description_width": ""
          }
        },
        "e6c197a0902746f282f549f6effb153b": {
          "model_module": "@jupyter-widgets/base",
          "model_name": "LayoutModel",
          "model_module_version": "1.2.0",
          "state": {
            "_model_module": "@jupyter-widgets/base",
            "_model_module_version": "1.2.0",
            "_model_name": "LayoutModel",
            "_view_count": null,
            "_view_module": "@jupyter-widgets/base",
            "_view_module_version": "1.2.0",
            "_view_name": "LayoutView",
            "align_content": null,
            "align_items": null,
            "align_self": null,
            "border": null,
            "bottom": null,
            "display": null,
            "flex": null,
            "flex_flow": null,
            "grid_area": null,
            "grid_auto_columns": null,
            "grid_auto_flow": null,
            "grid_auto_rows": null,
            "grid_column": null,
            "grid_gap": null,
            "grid_row": null,
            "grid_template_areas": null,
            "grid_template_columns": null,
            "grid_template_rows": null,
            "height": null,
            "justify_content": null,
            "justify_items": null,
            "left": null,
            "margin": null,
            "max_height": null,
            "max_width": null,
            "min_height": null,
            "min_width": null,
            "object_fit": null,
            "object_position": null,
            "order": null,
            "overflow": null,
            "overflow_x": null,
            "overflow_y": null,
            "padding": null,
            "right": null,
            "top": null,
            "visibility": null,
            "width": null
          }
        },
        "89ee44f536d2459bb6bdb53085662815": {
          "model_module": "@jupyter-widgets/controls",
          "model_name": "DescriptionStyleModel",
          "model_module_version": "1.5.0",
          "state": {
            "_model_module": "@jupyter-widgets/controls",
            "_model_module_version": "1.5.0",
            "_model_name": "DescriptionStyleModel",
            "_view_count": null,
            "_view_module": "@jupyter-widgets/base",
            "_view_module_version": "1.2.0",
            "_view_name": "StyleView",
            "description_width": ""
          }
        },
        "9013f719e36240699812f5d8d3bb602e": {
          "model_module": "@jupyter-widgets/controls",
          "model_name": "HBoxModel",
          "model_module_version": "1.5.0",
          "state": {
            "_dom_classes": [],
            "_model_module": "@jupyter-widgets/controls",
            "_model_module_version": "1.5.0",
            "_model_name": "HBoxModel",
            "_view_count": null,
            "_view_module": "@jupyter-widgets/controls",
            "_view_module_version": "1.5.0",
            "_view_name": "HBoxView",
            "box_style": "",
            "children": [
              "IPY_MODEL_ac89c06efac444b3878161dbc3871dd8",
              "IPY_MODEL_d1a4fbeb02804c3088299500a08ea216",
              "IPY_MODEL_3d1ce908736d4930ae7a4182c7d39551"
            ],
            "layout": "IPY_MODEL_93a04190b6ec413d83c037a09c49535c"
          }
        },
        "ac89c06efac444b3878161dbc3871dd8": {
          "model_module": "@jupyter-widgets/controls",
          "model_name": "HTMLModel",
          "model_module_version": "1.5.0",
          "state": {
            "_dom_classes": [],
            "_model_module": "@jupyter-widgets/controls",
            "_model_module_version": "1.5.0",
            "_model_name": "HTMLModel",
            "_view_count": null,
            "_view_module": "@jupyter-widgets/controls",
            "_view_module_version": "1.5.0",
            "_view_name": "HTMLView",
            "description": "",
            "description_tooltip": null,
            "layout": "IPY_MODEL_0b861c39b68749f8b45bc6e15b70e494",
            "placeholder": "​",
            "style": "IPY_MODEL_a4d62370d6b24924a2a0ab4b7ce8aca7",
            "value": "Downloading: 100%"
          }
        },
        "d1a4fbeb02804c3088299500a08ea216": {
          "model_module": "@jupyter-widgets/controls",
          "model_name": "FloatProgressModel",
          "model_module_version": "1.5.0",
          "state": {
            "_dom_classes": [],
            "_model_module": "@jupyter-widgets/controls",
            "_model_module_version": "1.5.0",
            "_model_name": "FloatProgressModel",
            "_view_count": null,
            "_view_module": "@jupyter-widgets/controls",
            "_view_module_version": "1.5.0",
            "_view_name": "ProgressView",
            "bar_style": "success",
            "description": "",
            "description_tooltip": null,
            "layout": "IPY_MODEL_9b6691ed53aa41918b51532d42c7966f",
            "max": 898823,
            "min": 0,
            "orientation": "horizontal",
            "style": "IPY_MODEL_04d73bc915b24dc6a790212599c488e7",
            "value": 898823
          }
        },
        "3d1ce908736d4930ae7a4182c7d39551": {
          "model_module": "@jupyter-widgets/controls",
          "model_name": "HTMLModel",
          "model_module_version": "1.5.0",
          "state": {
            "_dom_classes": [],
            "_model_module": "@jupyter-widgets/controls",
            "_model_module_version": "1.5.0",
            "_model_name": "HTMLModel",
            "_view_count": null,
            "_view_module": "@jupyter-widgets/controls",
            "_view_module_version": "1.5.0",
            "_view_name": "HTMLView",
            "description": "",
            "description_tooltip": null,
            "layout": "IPY_MODEL_74e8e9987959442ea8c18414ae07ae92",
            "placeholder": "​",
            "style": "IPY_MODEL_1dd05953e77145dc9987e31b95d55ded",
            "value": " 899k/899k [00:00&lt;00:00, 2.97MB/s]"
          }
        },
        "93a04190b6ec413d83c037a09c49535c": {
          "model_module": "@jupyter-widgets/base",
          "model_name": "LayoutModel",
          "model_module_version": "1.2.0",
          "state": {
            "_model_module": "@jupyter-widgets/base",
            "_model_module_version": "1.2.0",
            "_model_name": "LayoutModel",
            "_view_count": null,
            "_view_module": "@jupyter-widgets/base",
            "_view_module_version": "1.2.0",
            "_view_name": "LayoutView",
            "align_content": null,
            "align_items": null,
            "align_self": null,
            "border": null,
            "bottom": null,
            "display": null,
            "flex": null,
            "flex_flow": null,
            "grid_area": null,
            "grid_auto_columns": null,
            "grid_auto_flow": null,
            "grid_auto_rows": null,
            "grid_column": null,
            "grid_gap": null,
            "grid_row": null,
            "grid_template_areas": null,
            "grid_template_columns": null,
            "grid_template_rows": null,
            "height": null,
            "justify_content": null,
            "justify_items": null,
            "left": null,
            "margin": null,
            "max_height": null,
            "max_width": null,
            "min_height": null,
            "min_width": null,
            "object_fit": null,
            "object_position": null,
            "order": null,
            "overflow": null,
            "overflow_x": null,
            "overflow_y": null,
            "padding": null,
            "right": null,
            "top": null,
            "visibility": null,
            "width": null
          }
        },
        "0b861c39b68749f8b45bc6e15b70e494": {
          "model_module": "@jupyter-widgets/base",
          "model_name": "LayoutModel",
          "model_module_version": "1.2.0",
          "state": {
            "_model_module": "@jupyter-widgets/base",
            "_model_module_version": "1.2.0",
            "_model_name": "LayoutModel",
            "_view_count": null,
            "_view_module": "@jupyter-widgets/base",
            "_view_module_version": "1.2.0",
            "_view_name": "LayoutView",
            "align_content": null,
            "align_items": null,
            "align_self": null,
            "border": null,
            "bottom": null,
            "display": null,
            "flex": null,
            "flex_flow": null,
            "grid_area": null,
            "grid_auto_columns": null,
            "grid_auto_flow": null,
            "grid_auto_rows": null,
            "grid_column": null,
            "grid_gap": null,
            "grid_row": null,
            "grid_template_areas": null,
            "grid_template_columns": null,
            "grid_template_rows": null,
            "height": null,
            "justify_content": null,
            "justify_items": null,
            "left": null,
            "margin": null,
            "max_height": null,
            "max_width": null,
            "min_height": null,
            "min_width": null,
            "object_fit": null,
            "object_position": null,
            "order": null,
            "overflow": null,
            "overflow_x": null,
            "overflow_y": null,
            "padding": null,
            "right": null,
            "top": null,
            "visibility": null,
            "width": null
          }
        },
        "a4d62370d6b24924a2a0ab4b7ce8aca7": {
          "model_module": "@jupyter-widgets/controls",
          "model_name": "DescriptionStyleModel",
          "model_module_version": "1.5.0",
          "state": {
            "_model_module": "@jupyter-widgets/controls",
            "_model_module_version": "1.5.0",
            "_model_name": "DescriptionStyleModel",
            "_view_count": null,
            "_view_module": "@jupyter-widgets/base",
            "_view_module_version": "1.2.0",
            "_view_name": "StyleView",
            "description_width": ""
          }
        },
        "9b6691ed53aa41918b51532d42c7966f": {
          "model_module": "@jupyter-widgets/base",
          "model_name": "LayoutModel",
          "model_module_version": "1.2.0",
          "state": {
            "_model_module": "@jupyter-widgets/base",
            "_model_module_version": "1.2.0",
            "_model_name": "LayoutModel",
            "_view_count": null,
            "_view_module": "@jupyter-widgets/base",
            "_view_module_version": "1.2.0",
            "_view_name": "LayoutView",
            "align_content": null,
            "align_items": null,
            "align_self": null,
            "border": null,
            "bottom": null,
            "display": null,
            "flex": null,
            "flex_flow": null,
            "grid_area": null,
            "grid_auto_columns": null,
            "grid_auto_flow": null,
            "grid_auto_rows": null,
            "grid_column": null,
            "grid_gap": null,
            "grid_row": null,
            "grid_template_areas": null,
            "grid_template_columns": null,
            "grid_template_rows": null,
            "height": null,
            "justify_content": null,
            "justify_items": null,
            "left": null,
            "margin": null,
            "max_height": null,
            "max_width": null,
            "min_height": null,
            "min_width": null,
            "object_fit": null,
            "object_position": null,
            "order": null,
            "overflow": null,
            "overflow_x": null,
            "overflow_y": null,
            "padding": null,
            "right": null,
            "top": null,
            "visibility": null,
            "width": null
          }
        },
        "04d73bc915b24dc6a790212599c488e7": {
          "model_module": "@jupyter-widgets/controls",
          "model_name": "ProgressStyleModel",
          "model_module_version": "1.5.0",
          "state": {
            "_model_module": "@jupyter-widgets/controls",
            "_model_module_version": "1.5.0",
            "_model_name": "ProgressStyleModel",
            "_view_count": null,
            "_view_module": "@jupyter-widgets/base",
            "_view_module_version": "1.2.0",
            "_view_name": "StyleView",
            "bar_color": null,
            "description_width": ""
          }
        },
        "74e8e9987959442ea8c18414ae07ae92": {
          "model_module": "@jupyter-widgets/base",
          "model_name": "LayoutModel",
          "model_module_version": "1.2.0",
          "state": {
            "_model_module": "@jupyter-widgets/base",
            "_model_module_version": "1.2.0",
            "_model_name": "LayoutModel",
            "_view_count": null,
            "_view_module": "@jupyter-widgets/base",
            "_view_module_version": "1.2.0",
            "_view_name": "LayoutView",
            "align_content": null,
            "align_items": null,
            "align_self": null,
            "border": null,
            "bottom": null,
            "display": null,
            "flex": null,
            "flex_flow": null,
            "grid_area": null,
            "grid_auto_columns": null,
            "grid_auto_flow": null,
            "grid_auto_rows": null,
            "grid_column": null,
            "grid_gap": null,
            "grid_row": null,
            "grid_template_areas": null,
            "grid_template_columns": null,
            "grid_template_rows": null,
            "height": null,
            "justify_content": null,
            "justify_items": null,
            "left": null,
            "margin": null,
            "max_height": null,
            "max_width": null,
            "min_height": null,
            "min_width": null,
            "object_fit": null,
            "object_position": null,
            "order": null,
            "overflow": null,
            "overflow_x": null,
            "overflow_y": null,
            "padding": null,
            "right": null,
            "top": null,
            "visibility": null,
            "width": null
          }
        },
        "1dd05953e77145dc9987e31b95d55ded": {
          "model_module": "@jupyter-widgets/controls",
          "model_name": "DescriptionStyleModel",
          "model_module_version": "1.5.0",
          "state": {
            "_model_module": "@jupyter-widgets/controls",
            "_model_module_version": "1.5.0",
            "_model_name": "DescriptionStyleModel",
            "_view_count": null,
            "_view_module": "@jupyter-widgets/base",
            "_view_module_version": "1.2.0",
            "_view_name": "StyleView",
            "description_width": ""
          }
        },
        "e3a00cf18ef9434b99f845c0b2d56dd5": {
          "model_module": "@jupyter-widgets/controls",
          "model_name": "HBoxModel",
          "model_module_version": "1.5.0",
          "state": {
            "_dom_classes": [],
            "_model_module": "@jupyter-widgets/controls",
            "_model_module_version": "1.5.0",
            "_model_name": "HBoxModel",
            "_view_count": null,
            "_view_module": "@jupyter-widgets/controls",
            "_view_module_version": "1.5.0",
            "_view_name": "HBoxView",
            "box_style": "",
            "children": [
              "IPY_MODEL_4b983af2d72a470c81d734d956bdf647",
              "IPY_MODEL_ed3bd43d04bb4259b2907beb380c5e5d",
              "IPY_MODEL_1370d819cf714c2cbb766304196c59d9"
            ],
            "layout": "IPY_MODEL_441c313cf8bb4a8db9ddb279233bd71e"
          }
        },
        "4b983af2d72a470c81d734d956bdf647": {
          "model_module": "@jupyter-widgets/controls",
          "model_name": "HTMLModel",
          "model_module_version": "1.5.0",
          "state": {
            "_dom_classes": [],
            "_model_module": "@jupyter-widgets/controls",
            "_model_module_version": "1.5.0",
            "_model_name": "HTMLModel",
            "_view_count": null,
            "_view_module": "@jupyter-widgets/controls",
            "_view_module_version": "1.5.0",
            "_view_name": "HTMLView",
            "description": "",
            "description_tooltip": null,
            "layout": "IPY_MODEL_c75e35d9f5ee430280c333aaf4945eae",
            "placeholder": "​",
            "style": "IPY_MODEL_4c83ec0e1e4b48159094c0081f06c625",
            "value": "Downloading: 100%"
          }
        },
        "ed3bd43d04bb4259b2907beb380c5e5d": {
          "model_module": "@jupyter-widgets/controls",
          "model_name": "FloatProgressModel",
          "model_module_version": "1.5.0",
          "state": {
            "_dom_classes": [],
            "_model_module": "@jupyter-widgets/controls",
            "_model_module_version": "1.5.0",
            "_model_name": "FloatProgressModel",
            "_view_count": null,
            "_view_module": "@jupyter-widgets/controls",
            "_view_module_version": "1.5.0",
            "_view_name": "ProgressView",
            "bar_style": "success",
            "description": "",
            "description_tooltip": null,
            "layout": "IPY_MODEL_d1c95c3d9afd44fea51681d4db04968f",
            "max": 456318,
            "min": 0,
            "orientation": "horizontal",
            "style": "IPY_MODEL_522ca6dfe2754e48a49c9ef5858e32b2",
            "value": 456318
          }
        },
        "1370d819cf714c2cbb766304196c59d9": {
          "model_module": "@jupyter-widgets/controls",
          "model_name": "HTMLModel",
          "model_module_version": "1.5.0",
          "state": {
            "_dom_classes": [],
            "_model_module": "@jupyter-widgets/controls",
            "_model_module_version": "1.5.0",
            "_model_name": "HTMLModel",
            "_view_count": null,
            "_view_module": "@jupyter-widgets/controls",
            "_view_module_version": "1.5.0",
            "_view_name": "HTMLView",
            "description": "",
            "description_tooltip": null,
            "layout": "IPY_MODEL_7d7a94100d0544f58c34c26d632675b6",
            "placeholder": "​",
            "style": "IPY_MODEL_61bf8a553459445e9b90fceea43d096a",
            "value": " 456k/456k [00:00&lt;00:00, 919kB/s]"
          }
        },
        "441c313cf8bb4a8db9ddb279233bd71e": {
          "model_module": "@jupyter-widgets/base",
          "model_name": "LayoutModel",
          "model_module_version": "1.2.0",
          "state": {
            "_model_module": "@jupyter-widgets/base",
            "_model_module_version": "1.2.0",
            "_model_name": "LayoutModel",
            "_view_count": null,
            "_view_module": "@jupyter-widgets/base",
            "_view_module_version": "1.2.0",
            "_view_name": "LayoutView",
            "align_content": null,
            "align_items": null,
            "align_self": null,
            "border": null,
            "bottom": null,
            "display": null,
            "flex": null,
            "flex_flow": null,
            "grid_area": null,
            "grid_auto_columns": null,
            "grid_auto_flow": null,
            "grid_auto_rows": null,
            "grid_column": null,
            "grid_gap": null,
            "grid_row": null,
            "grid_template_areas": null,
            "grid_template_columns": null,
            "grid_template_rows": null,
            "height": null,
            "justify_content": null,
            "justify_items": null,
            "left": null,
            "margin": null,
            "max_height": null,
            "max_width": null,
            "min_height": null,
            "min_width": null,
            "object_fit": null,
            "object_position": null,
            "order": null,
            "overflow": null,
            "overflow_x": null,
            "overflow_y": null,
            "padding": null,
            "right": null,
            "top": null,
            "visibility": null,
            "width": null
          }
        },
        "c75e35d9f5ee430280c333aaf4945eae": {
          "model_module": "@jupyter-widgets/base",
          "model_name": "LayoutModel",
          "model_module_version": "1.2.0",
          "state": {
            "_model_module": "@jupyter-widgets/base",
            "_model_module_version": "1.2.0",
            "_model_name": "LayoutModel",
            "_view_count": null,
            "_view_module": "@jupyter-widgets/base",
            "_view_module_version": "1.2.0",
            "_view_name": "LayoutView",
            "align_content": null,
            "align_items": null,
            "align_self": null,
            "border": null,
            "bottom": null,
            "display": null,
            "flex": null,
            "flex_flow": null,
            "grid_area": null,
            "grid_auto_columns": null,
            "grid_auto_flow": null,
            "grid_auto_rows": null,
            "grid_column": null,
            "grid_gap": null,
            "grid_row": null,
            "grid_template_areas": null,
            "grid_template_columns": null,
            "grid_template_rows": null,
            "height": null,
            "justify_content": null,
            "justify_items": null,
            "left": null,
            "margin": null,
            "max_height": null,
            "max_width": null,
            "min_height": null,
            "min_width": null,
            "object_fit": null,
            "object_position": null,
            "order": null,
            "overflow": null,
            "overflow_x": null,
            "overflow_y": null,
            "padding": null,
            "right": null,
            "top": null,
            "visibility": null,
            "width": null
          }
        },
        "4c83ec0e1e4b48159094c0081f06c625": {
          "model_module": "@jupyter-widgets/controls",
          "model_name": "DescriptionStyleModel",
          "model_module_version": "1.5.0",
          "state": {
            "_model_module": "@jupyter-widgets/controls",
            "_model_module_version": "1.5.0",
            "_model_name": "DescriptionStyleModel",
            "_view_count": null,
            "_view_module": "@jupyter-widgets/base",
            "_view_module_version": "1.2.0",
            "_view_name": "StyleView",
            "description_width": ""
          }
        },
        "d1c95c3d9afd44fea51681d4db04968f": {
          "model_module": "@jupyter-widgets/base",
          "model_name": "LayoutModel",
          "model_module_version": "1.2.0",
          "state": {
            "_model_module": "@jupyter-widgets/base",
            "_model_module_version": "1.2.0",
            "_model_name": "LayoutModel",
            "_view_count": null,
            "_view_module": "@jupyter-widgets/base",
            "_view_module_version": "1.2.0",
            "_view_name": "LayoutView",
            "align_content": null,
            "align_items": null,
            "align_self": null,
            "border": null,
            "bottom": null,
            "display": null,
            "flex": null,
            "flex_flow": null,
            "grid_area": null,
            "grid_auto_columns": null,
            "grid_auto_flow": null,
            "grid_auto_rows": null,
            "grid_column": null,
            "grid_gap": null,
            "grid_row": null,
            "grid_template_areas": null,
            "grid_template_columns": null,
            "grid_template_rows": null,
            "height": null,
            "justify_content": null,
            "justify_items": null,
            "left": null,
            "margin": null,
            "max_height": null,
            "max_width": null,
            "min_height": null,
            "min_width": null,
            "object_fit": null,
            "object_position": null,
            "order": null,
            "overflow": null,
            "overflow_x": null,
            "overflow_y": null,
            "padding": null,
            "right": null,
            "top": null,
            "visibility": null,
            "width": null
          }
        },
        "522ca6dfe2754e48a49c9ef5858e32b2": {
          "model_module": "@jupyter-widgets/controls",
          "model_name": "ProgressStyleModel",
          "model_module_version": "1.5.0",
          "state": {
            "_model_module": "@jupyter-widgets/controls",
            "_model_module_version": "1.5.0",
            "_model_name": "ProgressStyleModel",
            "_view_count": null,
            "_view_module": "@jupyter-widgets/base",
            "_view_module_version": "1.2.0",
            "_view_name": "StyleView",
            "bar_color": null,
            "description_width": ""
          }
        },
        "7d7a94100d0544f58c34c26d632675b6": {
          "model_module": "@jupyter-widgets/base",
          "model_name": "LayoutModel",
          "model_module_version": "1.2.0",
          "state": {
            "_model_module": "@jupyter-widgets/base",
            "_model_module_version": "1.2.0",
            "_model_name": "LayoutModel",
            "_view_count": null,
            "_view_module": "@jupyter-widgets/base",
            "_view_module_version": "1.2.0",
            "_view_name": "LayoutView",
            "align_content": null,
            "align_items": null,
            "align_self": null,
            "border": null,
            "bottom": null,
            "display": null,
            "flex": null,
            "flex_flow": null,
            "grid_area": null,
            "grid_auto_columns": null,
            "grid_auto_flow": null,
            "grid_auto_rows": null,
            "grid_column": null,
            "grid_gap": null,
            "grid_row": null,
            "grid_template_areas": null,
            "grid_template_columns": null,
            "grid_template_rows": null,
            "height": null,
            "justify_content": null,
            "justify_items": null,
            "left": null,
            "margin": null,
            "max_height": null,
            "max_width": null,
            "min_height": null,
            "min_width": null,
            "object_fit": null,
            "object_position": null,
            "order": null,
            "overflow": null,
            "overflow_x": null,
            "overflow_y": null,
            "padding": null,
            "right": null,
            "top": null,
            "visibility": null,
            "width": null
          }
        },
        "61bf8a553459445e9b90fceea43d096a": {
          "model_module": "@jupyter-widgets/controls",
          "model_name": "DescriptionStyleModel",
          "model_module_version": "1.5.0",
          "state": {
            "_model_module": "@jupyter-widgets/controls",
            "_model_module_version": "1.5.0",
            "_model_name": "DescriptionStyleModel",
            "_view_count": null,
            "_view_module": "@jupyter-widgets/base",
            "_view_module_version": "1.2.0",
            "_view_name": "StyleView",
            "description_width": ""
          }
        },
        "e3db17ba24b84876951d20505e31b798": {
          "model_module": "@jupyter-widgets/controls",
          "model_name": "HBoxModel",
          "model_module_version": "1.5.0",
          "state": {
            "_dom_classes": [],
            "_model_module": "@jupyter-widgets/controls",
            "_model_module_version": "1.5.0",
            "_model_name": "HBoxModel",
            "_view_count": null,
            "_view_module": "@jupyter-widgets/controls",
            "_view_module_version": "1.5.0",
            "_view_name": "HBoxView",
            "box_style": "",
            "children": [
              "IPY_MODEL_e1b107f1a8a848fd99fa4c0bcbc46f46",
              "IPY_MODEL_0186b1e3cf774d5197bda315a273efe1",
              "IPY_MODEL_aee4c6fcfaff49acb4bbc1f4d9b850d4"
            ],
            "layout": "IPY_MODEL_8899a19b07f04ab9a892708e2c8f9a82"
          }
        },
        "e1b107f1a8a848fd99fa4c0bcbc46f46": {
          "model_module": "@jupyter-widgets/controls",
          "model_name": "HTMLModel",
          "model_module_version": "1.5.0",
          "state": {
            "_dom_classes": [],
            "_model_module": "@jupyter-widgets/controls",
            "_model_module_version": "1.5.0",
            "_model_name": "HTMLModel",
            "_view_count": null,
            "_view_module": "@jupyter-widgets/controls",
            "_view_module_version": "1.5.0",
            "_view_name": "HTMLView",
            "description": "",
            "description_tooltip": null,
            "layout": "IPY_MODEL_4165e4aab5ff453f92a20f28d2f8508c",
            "placeholder": "​",
            "style": "IPY_MODEL_25a72d1f6b72415e8b77ae5d53804108",
            "value": "Downloading: 100%"
          }
        },
        "0186b1e3cf774d5197bda315a273efe1": {
          "model_module": "@jupyter-widgets/controls",
          "model_name": "FloatProgressModel",
          "model_module_version": "1.5.0",
          "state": {
            "_dom_classes": [],
            "_model_module": "@jupyter-widgets/controls",
            "_model_module_version": "1.5.0",
            "_model_name": "FloatProgressModel",
            "_view_count": null,
            "_view_module": "@jupyter-widgets/controls",
            "_view_module_version": "1.5.0",
            "_view_name": "ProgressView",
            "bar_style": "success",
            "description": "",
            "description_tooltip": null,
            "layout": "IPY_MODEL_5aa2d6daf86e4e498d0813799259fd09",
            "max": 1355863,
            "min": 0,
            "orientation": "horizontal",
            "style": "IPY_MODEL_cdccb5a47b53493e8497c9d87aa26d07",
            "value": 1355863
          }
        },
        "aee4c6fcfaff49acb4bbc1f4d9b850d4": {
          "model_module": "@jupyter-widgets/controls",
          "model_name": "HTMLModel",
          "model_module_version": "1.5.0",
          "state": {
            "_dom_classes": [],
            "_model_module": "@jupyter-widgets/controls",
            "_model_module_version": "1.5.0",
            "_model_name": "HTMLModel",
            "_view_count": null,
            "_view_module": "@jupyter-widgets/controls",
            "_view_module_version": "1.5.0",
            "_view_name": "HTMLView",
            "description": "",
            "description_tooltip": null,
            "layout": "IPY_MODEL_345fb50f66a243d0b29a225630702894",
            "placeholder": "​",
            "style": "IPY_MODEL_56f9e4e6b24f42ee80fe4409c1174bc8",
            "value": " 1.36M/1.36M [00:00&lt;00:00, 1.87MB/s]"
          }
        },
        "8899a19b07f04ab9a892708e2c8f9a82": {
          "model_module": "@jupyter-widgets/base",
          "model_name": "LayoutModel",
          "model_module_version": "1.2.0",
          "state": {
            "_model_module": "@jupyter-widgets/base",
            "_model_module_version": "1.2.0",
            "_model_name": "LayoutModel",
            "_view_count": null,
            "_view_module": "@jupyter-widgets/base",
            "_view_module_version": "1.2.0",
            "_view_name": "LayoutView",
            "align_content": null,
            "align_items": null,
            "align_self": null,
            "border": null,
            "bottom": null,
            "display": null,
            "flex": null,
            "flex_flow": null,
            "grid_area": null,
            "grid_auto_columns": null,
            "grid_auto_flow": null,
            "grid_auto_rows": null,
            "grid_column": null,
            "grid_gap": null,
            "grid_row": null,
            "grid_template_areas": null,
            "grid_template_columns": null,
            "grid_template_rows": null,
            "height": null,
            "justify_content": null,
            "justify_items": null,
            "left": null,
            "margin": null,
            "max_height": null,
            "max_width": null,
            "min_height": null,
            "min_width": null,
            "object_fit": null,
            "object_position": null,
            "order": null,
            "overflow": null,
            "overflow_x": null,
            "overflow_y": null,
            "padding": null,
            "right": null,
            "top": null,
            "visibility": null,
            "width": null
          }
        },
        "4165e4aab5ff453f92a20f28d2f8508c": {
          "model_module": "@jupyter-widgets/base",
          "model_name": "LayoutModel",
          "model_module_version": "1.2.0",
          "state": {
            "_model_module": "@jupyter-widgets/base",
            "_model_module_version": "1.2.0",
            "_model_name": "LayoutModel",
            "_view_count": null,
            "_view_module": "@jupyter-widgets/base",
            "_view_module_version": "1.2.0",
            "_view_name": "LayoutView",
            "align_content": null,
            "align_items": null,
            "align_self": null,
            "border": null,
            "bottom": null,
            "display": null,
            "flex": null,
            "flex_flow": null,
            "grid_area": null,
            "grid_auto_columns": null,
            "grid_auto_flow": null,
            "grid_auto_rows": null,
            "grid_column": null,
            "grid_gap": null,
            "grid_row": null,
            "grid_template_areas": null,
            "grid_template_columns": null,
            "grid_template_rows": null,
            "height": null,
            "justify_content": null,
            "justify_items": null,
            "left": null,
            "margin": null,
            "max_height": null,
            "max_width": null,
            "min_height": null,
            "min_width": null,
            "object_fit": null,
            "object_position": null,
            "order": null,
            "overflow": null,
            "overflow_x": null,
            "overflow_y": null,
            "padding": null,
            "right": null,
            "top": null,
            "visibility": null,
            "width": null
          }
        },
        "25a72d1f6b72415e8b77ae5d53804108": {
          "model_module": "@jupyter-widgets/controls",
          "model_name": "DescriptionStyleModel",
          "model_module_version": "1.5.0",
          "state": {
            "_model_module": "@jupyter-widgets/controls",
            "_model_module_version": "1.5.0",
            "_model_name": "DescriptionStyleModel",
            "_view_count": null,
            "_view_module": "@jupyter-widgets/base",
            "_view_module_version": "1.2.0",
            "_view_name": "StyleView",
            "description_width": ""
          }
        },
        "5aa2d6daf86e4e498d0813799259fd09": {
          "model_module": "@jupyter-widgets/base",
          "model_name": "LayoutModel",
          "model_module_version": "1.2.0",
          "state": {
            "_model_module": "@jupyter-widgets/base",
            "_model_module_version": "1.2.0",
            "_model_name": "LayoutModel",
            "_view_count": null,
            "_view_module": "@jupyter-widgets/base",
            "_view_module_version": "1.2.0",
            "_view_name": "LayoutView",
            "align_content": null,
            "align_items": null,
            "align_self": null,
            "border": null,
            "bottom": null,
            "display": null,
            "flex": null,
            "flex_flow": null,
            "grid_area": null,
            "grid_auto_columns": null,
            "grid_auto_flow": null,
            "grid_auto_rows": null,
            "grid_column": null,
            "grid_gap": null,
            "grid_row": null,
            "grid_template_areas": null,
            "grid_template_columns": null,
            "grid_template_rows": null,
            "height": null,
            "justify_content": null,
            "justify_items": null,
            "left": null,
            "margin": null,
            "max_height": null,
            "max_width": null,
            "min_height": null,
            "min_width": null,
            "object_fit": null,
            "object_position": null,
            "order": null,
            "overflow": null,
            "overflow_x": null,
            "overflow_y": null,
            "padding": null,
            "right": null,
            "top": null,
            "visibility": null,
            "width": null
          }
        },
        "cdccb5a47b53493e8497c9d87aa26d07": {
          "model_module": "@jupyter-widgets/controls",
          "model_name": "ProgressStyleModel",
          "model_module_version": "1.5.0",
          "state": {
            "_model_module": "@jupyter-widgets/controls",
            "_model_module_version": "1.5.0",
            "_model_name": "ProgressStyleModel",
            "_view_count": null,
            "_view_module": "@jupyter-widgets/base",
            "_view_module_version": "1.2.0",
            "_view_name": "StyleView",
            "bar_color": null,
            "description_width": ""
          }
        },
        "345fb50f66a243d0b29a225630702894": {
          "model_module": "@jupyter-widgets/base",
          "model_name": "LayoutModel",
          "model_module_version": "1.2.0",
          "state": {
            "_model_module": "@jupyter-widgets/base",
            "_model_module_version": "1.2.0",
            "_model_name": "LayoutModel",
            "_view_count": null,
            "_view_module": "@jupyter-widgets/base",
            "_view_module_version": "1.2.0",
            "_view_name": "LayoutView",
            "align_content": null,
            "align_items": null,
            "align_self": null,
            "border": null,
            "bottom": null,
            "display": null,
            "flex": null,
            "flex_flow": null,
            "grid_area": null,
            "grid_auto_columns": null,
            "grid_auto_flow": null,
            "grid_auto_rows": null,
            "grid_column": null,
            "grid_gap": null,
            "grid_row": null,
            "grid_template_areas": null,
            "grid_template_columns": null,
            "grid_template_rows": null,
            "height": null,
            "justify_content": null,
            "justify_items": null,
            "left": null,
            "margin": null,
            "max_height": null,
            "max_width": null,
            "min_height": null,
            "min_width": null,
            "object_fit": null,
            "object_position": null,
            "order": null,
            "overflow": null,
            "overflow_x": null,
            "overflow_y": null,
            "padding": null,
            "right": null,
            "top": null,
            "visibility": null,
            "width": null
          }
        },
        "56f9e4e6b24f42ee80fe4409c1174bc8": {
          "model_module": "@jupyter-widgets/controls",
          "model_name": "DescriptionStyleModel",
          "model_module_version": "1.5.0",
          "state": {
            "_model_module": "@jupyter-widgets/controls",
            "_model_module_version": "1.5.0",
            "_model_name": "DescriptionStyleModel",
            "_view_count": null,
            "_view_module": "@jupyter-widgets/base",
            "_view_module_version": "1.2.0",
            "_view_name": "StyleView",
            "description_width": ""
          }
        },
        "9de8f35c9f8048169b48acc408cf714f": {
          "model_module": "@jupyter-widgets/controls",
          "model_name": "HBoxModel",
          "model_module_version": "1.5.0",
          "state": {
            "_dom_classes": [],
            "_model_module": "@jupyter-widgets/controls",
            "_model_module_version": "1.5.0",
            "_model_name": "HBoxModel",
            "_view_count": null,
            "_view_module": "@jupyter-widgets/controls",
            "_view_module_version": "1.5.0",
            "_view_name": "HBoxView",
            "box_style": "",
            "children": [
              "IPY_MODEL_8e7f0015d370496fac1840afefd6a734",
              "IPY_MODEL_d3864dbf8a834a8e935c88fb9af7b98f",
              "IPY_MODEL_674aab6d0e9f46a0a73055474ea7b157"
            ],
            "layout": "IPY_MODEL_c1301a5186df437aa59bc6a5674b9306"
          }
        },
        "8e7f0015d370496fac1840afefd6a734": {
          "model_module": "@jupyter-widgets/controls",
          "model_name": "HTMLModel",
          "model_module_version": "1.5.0",
          "state": {
            "_dom_classes": [],
            "_model_module": "@jupyter-widgets/controls",
            "_model_module_version": "1.5.0",
            "_model_name": "HTMLModel",
            "_view_count": null,
            "_view_module": "@jupyter-widgets/controls",
            "_view_module_version": "1.5.0",
            "_view_name": "HTMLView",
            "description": "",
            "description_tooltip": null,
            "layout": "IPY_MODEL_0c79ff0ca9f441ffb2261c77094484e9",
            "placeholder": "​",
            "style": "IPY_MODEL_6a94030edffd4de4adbf540c85521948",
            "value": "Downloading: 100%"
          }
        },
        "d3864dbf8a834a8e935c88fb9af7b98f": {
          "model_module": "@jupyter-widgets/controls",
          "model_name": "FloatProgressModel",
          "model_module_version": "1.5.0",
          "state": {
            "_dom_classes": [],
            "_model_module": "@jupyter-widgets/controls",
            "_model_module_version": "1.5.0",
            "_model_name": "FloatProgressModel",
            "_view_count": null,
            "_view_module": "@jupyter-widgets/controls",
            "_view_module_version": "1.5.0",
            "_view_name": "ProgressView",
            "bar_style": "success",
            "description": "",
            "description_tooltip": null,
            "layout": "IPY_MODEL_08d3822de2954715af9fbc83c52fca18",
            "max": 1625270765,
            "min": 0,
            "orientation": "horizontal",
            "style": "IPY_MODEL_391ee2430be1458cb6b7f8dc9a5bd209",
            "value": 1625270765
          }
        },
        "674aab6d0e9f46a0a73055474ea7b157": {
          "model_module": "@jupyter-widgets/controls",
          "model_name": "HTMLModel",
          "model_module_version": "1.5.0",
          "state": {
            "_dom_classes": [],
            "_model_module": "@jupyter-widgets/controls",
            "_model_module_version": "1.5.0",
            "_model_name": "HTMLModel",
            "_view_count": null,
            "_view_module": "@jupyter-widgets/controls",
            "_view_module_version": "1.5.0",
            "_view_name": "HTMLView",
            "description": "",
            "description_tooltip": null,
            "layout": "IPY_MODEL_768a25922a7b4ae5bc81596f93a7cb1d",
            "placeholder": "​",
            "style": "IPY_MODEL_093788a3cd524461ada38f6f047f01ee",
            "value": " 1.63G/1.63G [00:31&lt;00:00, 41.1MB/s]"
          }
        },
        "c1301a5186df437aa59bc6a5674b9306": {
          "model_module": "@jupyter-widgets/base",
          "model_name": "LayoutModel",
          "model_module_version": "1.2.0",
          "state": {
            "_model_module": "@jupyter-widgets/base",
            "_model_module_version": "1.2.0",
            "_model_name": "LayoutModel",
            "_view_count": null,
            "_view_module": "@jupyter-widgets/base",
            "_view_module_version": "1.2.0",
            "_view_name": "LayoutView",
            "align_content": null,
            "align_items": null,
            "align_self": null,
            "border": null,
            "bottom": null,
            "display": null,
            "flex": null,
            "flex_flow": null,
            "grid_area": null,
            "grid_auto_columns": null,
            "grid_auto_flow": null,
            "grid_auto_rows": null,
            "grid_column": null,
            "grid_gap": null,
            "grid_row": null,
            "grid_template_areas": null,
            "grid_template_columns": null,
            "grid_template_rows": null,
            "height": null,
            "justify_content": null,
            "justify_items": null,
            "left": null,
            "margin": null,
            "max_height": null,
            "max_width": null,
            "min_height": null,
            "min_width": null,
            "object_fit": null,
            "object_position": null,
            "order": null,
            "overflow": null,
            "overflow_x": null,
            "overflow_y": null,
            "padding": null,
            "right": null,
            "top": null,
            "visibility": null,
            "width": null
          }
        },
        "0c79ff0ca9f441ffb2261c77094484e9": {
          "model_module": "@jupyter-widgets/base",
          "model_name": "LayoutModel",
          "model_module_version": "1.2.0",
          "state": {
            "_model_module": "@jupyter-widgets/base",
            "_model_module_version": "1.2.0",
            "_model_name": "LayoutModel",
            "_view_count": null,
            "_view_module": "@jupyter-widgets/base",
            "_view_module_version": "1.2.0",
            "_view_name": "LayoutView",
            "align_content": null,
            "align_items": null,
            "align_self": null,
            "border": null,
            "bottom": null,
            "display": null,
            "flex": null,
            "flex_flow": null,
            "grid_area": null,
            "grid_auto_columns": null,
            "grid_auto_flow": null,
            "grid_auto_rows": null,
            "grid_column": null,
            "grid_gap": null,
            "grid_row": null,
            "grid_template_areas": null,
            "grid_template_columns": null,
            "grid_template_rows": null,
            "height": null,
            "justify_content": null,
            "justify_items": null,
            "left": null,
            "margin": null,
            "max_height": null,
            "max_width": null,
            "min_height": null,
            "min_width": null,
            "object_fit": null,
            "object_position": null,
            "order": null,
            "overflow": null,
            "overflow_x": null,
            "overflow_y": null,
            "padding": null,
            "right": null,
            "top": null,
            "visibility": null,
            "width": null
          }
        },
        "6a94030edffd4de4adbf540c85521948": {
          "model_module": "@jupyter-widgets/controls",
          "model_name": "DescriptionStyleModel",
          "model_module_version": "1.5.0",
          "state": {
            "_model_module": "@jupyter-widgets/controls",
            "_model_module_version": "1.5.0",
            "_model_name": "DescriptionStyleModel",
            "_view_count": null,
            "_view_module": "@jupyter-widgets/base",
            "_view_module_version": "1.2.0",
            "_view_name": "StyleView",
            "description_width": ""
          }
        },
        "08d3822de2954715af9fbc83c52fca18": {
          "model_module": "@jupyter-widgets/base",
          "model_name": "LayoutModel",
          "model_module_version": "1.2.0",
          "state": {
            "_model_module": "@jupyter-widgets/base",
            "_model_module_version": "1.2.0",
            "_model_name": "LayoutModel",
            "_view_count": null,
            "_view_module": "@jupyter-widgets/base",
            "_view_module_version": "1.2.0",
            "_view_name": "LayoutView",
            "align_content": null,
            "align_items": null,
            "align_self": null,
            "border": null,
            "bottom": null,
            "display": null,
            "flex": null,
            "flex_flow": null,
            "grid_area": null,
            "grid_auto_columns": null,
            "grid_auto_flow": null,
            "grid_auto_rows": null,
            "grid_column": null,
            "grid_gap": null,
            "grid_row": null,
            "grid_template_areas": null,
            "grid_template_columns": null,
            "grid_template_rows": null,
            "height": null,
            "justify_content": null,
            "justify_items": null,
            "left": null,
            "margin": null,
            "max_height": null,
            "max_width": null,
            "min_height": null,
            "min_width": null,
            "object_fit": null,
            "object_position": null,
            "order": null,
            "overflow": null,
            "overflow_x": null,
            "overflow_y": null,
            "padding": null,
            "right": null,
            "top": null,
            "visibility": null,
            "width": null
          }
        },
        "391ee2430be1458cb6b7f8dc9a5bd209": {
          "model_module": "@jupyter-widgets/controls",
          "model_name": "ProgressStyleModel",
          "model_module_version": "1.5.0",
          "state": {
            "_model_module": "@jupyter-widgets/controls",
            "_model_module_version": "1.5.0",
            "_model_name": "ProgressStyleModel",
            "_view_count": null,
            "_view_module": "@jupyter-widgets/base",
            "_view_module_version": "1.2.0",
            "_view_name": "StyleView",
            "bar_color": null,
            "description_width": ""
          }
        },
        "768a25922a7b4ae5bc81596f93a7cb1d": {
          "model_module": "@jupyter-widgets/base",
          "model_name": "LayoutModel",
          "model_module_version": "1.2.0",
          "state": {
            "_model_module": "@jupyter-widgets/base",
            "_model_module_version": "1.2.0",
            "_model_name": "LayoutModel",
            "_view_count": null,
            "_view_module": "@jupyter-widgets/base",
            "_view_module_version": "1.2.0",
            "_view_name": "LayoutView",
            "align_content": null,
            "align_items": null,
            "align_self": null,
            "border": null,
            "bottom": null,
            "display": null,
            "flex": null,
            "flex_flow": null,
            "grid_area": null,
            "grid_auto_columns": null,
            "grid_auto_flow": null,
            "grid_auto_rows": null,
            "grid_column": null,
            "grid_gap": null,
            "grid_row": null,
            "grid_template_areas": null,
            "grid_template_columns": null,
            "grid_template_rows": null,
            "height": null,
            "justify_content": null,
            "justify_items": null,
            "left": null,
            "margin": null,
            "max_height": null,
            "max_width": null,
            "min_height": null,
            "min_width": null,
            "object_fit": null,
            "object_position": null,
            "order": null,
            "overflow": null,
            "overflow_x": null,
            "overflow_y": null,
            "padding": null,
            "right": null,
            "top": null,
            "visibility": null,
            "width": null
          }
        },
        "093788a3cd524461ada38f6f047f01ee": {
          "model_module": "@jupyter-widgets/controls",
          "model_name": "DescriptionStyleModel",
          "model_module_version": "1.5.0",
          "state": {
            "_model_module": "@jupyter-widgets/controls",
            "_model_module_version": "1.5.0",
            "_model_name": "DescriptionStyleModel",
            "_view_count": null,
            "_view_module": "@jupyter-widgets/base",
            "_view_module_version": "1.2.0",
            "_view_name": "StyleView",
            "description_width": ""
          }
        }
      }
    }
  },
  "cells": [
    {
      "cell_type": "code",
      "execution_count": null,
      "metadata": {
        "colab": {
          "base_uri": "https://localhost:8080/"
        },
        "id": "RZhx74G9rUdX",
        "outputId": "5bb6343e-59d7-45fa-f40c-40bf052a0b65"
      },
      "outputs": [
        {
          "output_type": "stream",
          "name": "stdout",
          "text": [
            "\r0% [Working]\r            \rGet:1 https://cloud.r-project.org/bin/linux/ubuntu bionic-cran40/ InRelease [3,626 B]\n",
            "\r0% [Waiting for headers] [Connecting to security.ubuntu.com (185.125.190.39)] [\r0% [Waiting for headers] [Connecting to security.ubuntu.com (185.125.190.39)] [\r                                                                               \rIgn:2 https://developer.download.nvidia.com/compute/machine-learning/repos/ubuntu1804/x86_64  InRelease\n",
            "\r0% [Waiting for headers] [Connecting to security.ubuntu.com (185.125.190.39)] [\r                                                                               \rHit:3 https://developer.download.nvidia.com/compute/cuda/repos/ubuntu1804/x86_64  InRelease\n",
            "\r0% [Waiting for headers] [Connecting to security.ubuntu.com (185.125.190.39)] [\r0% [1 InRelease gpgv 3,626 B] [Waiting for headers] [Connecting to security.ubu\r                                                                               \rHit:4 https://developer.download.nvidia.com/compute/machine-learning/repos/ubuntu1804/x86_64  Release\n",
            "\r0% [1 InRelease gpgv 3,626 B] [Waiting for headers] [Connecting to security.ubu\r                                                                               \rHit:5 http://archive.ubuntu.com/ubuntu bionic InRelease\n",
            "Get:6 http://archive.ubuntu.com/ubuntu bionic-updates InRelease [88.7 kB]\n",
            "Get:7 http://security.ubuntu.com/ubuntu bionic-security InRelease [88.7 kB]\n",
            "Get:8 http://ppa.launchpad.net/c2d4u.team/c2d4u4.0+/ubuntu bionic InRelease [15.9 kB]\n",
            "Get:9 http://archive.ubuntu.com/ubuntu bionic-backports InRelease [83.3 kB]\n",
            "Hit:11 http://ppa.launchpad.net/cran/libgit2/ubuntu bionic InRelease\n",
            "Hit:12 http://ppa.launchpad.net/deadsnakes/ppa/ubuntu bionic InRelease\n",
            "Hit:13 http://ppa.launchpad.net/graphics-drivers/ppa/ubuntu bionic InRelease\n",
            "Get:14 http://ppa.launchpad.net/c2d4u.team/c2d4u4.0+/ubuntu bionic/main Sources [2,235 kB]\n",
            "Get:15 http://ppa.launchpad.net/c2d4u.team/c2d4u4.0+/ubuntu bionic/main amd64 Packages [1,143 kB]\n",
            "Fetched 3,659 kB in 4s (942 kB/s)\n",
            "Reading package lists... Done\n"
          ]
        }
      ],
      "source": [
        "!apt-get update"
      ]
    },
    {
      "cell_type": "code",
      "source": [
        "!apt-get install -y chromium-browser"
      ],
      "metadata": {
        "id": "vZmZsUm1vnMH"
      },
      "execution_count": null,
      "outputs": []
    },
    {
      "cell_type": "code",
      "source": [
        "!apt-get install chromium-chromedriver"
      ],
      "metadata": {
        "colab": {
          "base_uri": "https://localhost:8080/"
        },
        "id": "R1l5xKkiv7iP",
        "outputId": "1d177ad8-0c19-453c-8ad0-8f23ad31842c"
      },
      "execution_count": null,
      "outputs": [
        {
          "output_type": "stream",
          "name": "stdout",
          "text": [
            "Reading package lists... Done\n",
            "Building dependency tree       \n",
            "Reading state information... Done\n",
            "The following package was automatically installed and is no longer required:\n",
            "  libnvidia-common-460\n",
            "Use 'apt autoremove' to remove it.\n",
            "The following NEW packages will be installed:\n",
            "  chromium-chromedriver\n",
            "0 upgraded, 1 newly installed, 0 to remove and 20 not upgraded.\n",
            "Need to get 5,594 kB of archives.\n",
            "After this operation, 15.6 MB of additional disk space will be used.\n",
            "Get:1 http://archive.ubuntu.com/ubuntu bionic-updates/universe amd64 chromium-chromedriver amd64 108.0.5359.71-0ubuntu0.18.04.5 [5,594 kB]\n",
            "Fetched 5,594 kB in 2s (3,422 kB/s)\n",
            "Selecting previously unselected package chromium-chromedriver.\n",
            "(Reading database ... 124134 files and directories currently installed.)\n",
            "Preparing to unpack .../chromium-chromedriver_108.0.5359.71-0ubuntu0.18.04.5_amd64.deb ...\n",
            "Unpacking chromium-chromedriver (108.0.5359.71-0ubuntu0.18.04.5) ...\n",
            "Setting up chromium-chromedriver (108.0.5359.71-0ubuntu0.18.04.5) ...\n"
          ]
        }
      ]
    },
    {
      "cell_type": "code",
      "source": [
        "!ls /usr/lib/"
      ],
      "metadata": {
        "colab": {
          "base_uri": "https://localhost:8080/"
        },
        "id": "-lqIvAhuwQot",
        "outputId": "a9e48cc9-2d9d-4beb-bbaa-c993b9291df8"
      },
      "execution_count": null,
      "outputs": [
        {
          "output_type": "stream",
          "name": "stdout",
          "text": [
            "apt\t\t\t\t       libogdi.so\n",
            "bfd-plugins\t\t\t       libogdi.so.3\n",
            "binfmt.d\t\t\t       libogdi.so.3.2\n",
            "blt2.5\t\t\t\t       libpsm1\n",
            "chromium-browser\t\t       libR.so\n",
            "clang\t\t\t\t       libvpf.so\n",
            "compat-ld\t\t\t       libvpf.so.3\n",
            "dbus-1.0\t\t\t       libvpf.so.3.2\n",
            "dconf\t\t\t\t       llvm-6.0\n",
            "debug\t\t\t\t       locale\n",
            "dkms\t\t\t\t       man-db\n",
            "dpkg\t\t\t\t       mime\n",
            "emacsen-common\t\t\t       modules-load.d\n",
            "environment.d\t\t\t       nvidia\n",
            "gcc\t\t\t\t       ogdi\n",
            "git-core\t\t\t       openssh\n",
            "glib-networking\t\t\t       os-release\n",
            "gnupg\t\t\t\t       p7zip\n",
            "gnupg2\t\t\t\t       pkgconfig\n",
            "gold-ld\t\t\t\t       pkg-config.multiarch\n",
            "groff\t\t\t\t       policykit-1\n",
            "jni\t\t\t\t       policykit-1-gnome\n",
            "jvm\t\t\t\t       python2.7\n",
            "kernel\t\t\t\t       python3\n",
            "libann.so.0\t\t\t       python3.6\n",
            "libann.so.0.0.0\t\t\t       python3.7\n",
            "libarmadillo.so\t\t\t       python3.8\n",
            "libarmadillo.so.8\t\t       qt5\n",
            "libarmadillo.so.8.400.0\t\t       R\n",
            "libBLT.2.5.so.8.6\t\t       sasl2\n",
            "libBLTlite.2.5.so.8.6\t\t       software-properties\n",
            "libdfalt.a\t\t\t       ssl\n",
            "libdfalt.la\t\t\t       sudo\n",
            "libdfalt.so\t\t\t       sysctl.d\n",
            "libdfalt.so.0\t\t\t       systemd\n",
            "libdfalt.so.0.0.0\t\t       sysusers.d\n",
            "libgdal.a\t\t\t       tar\n",
            "libgdal.so\t\t\t       tc\n",
            "libgdal.so.20\t\t\t       tcl8.6\n",
            "libgdal.so.20.3.2\t\t       tclConfig.sh\n",
            "libhdf4.settings\t\t       tclooConfig.sh\n",
            "libmfhdfalt.a\t\t\t       tcltk\n",
            "libmfhdfalt.la\t\t\t       tk8.6\n",
            "libmfhdfalt.so\t\t\t       tkConfig.sh\n",
            "libmfhdfalt.so.0\t\t       tmpfiles.d\n",
            "libmfhdfalt.so.0.0.0\t\t       valgrind\n",
            "libnvidia-gtk2.so.525.60.13\t       X11\n",
            "libnvidia-gtk3.so.525.60.13\t       x86_64-linux-gnu\n",
            "libnvidia-wayland-client.so.525.60.13  xorg\n"
          ]
        }
      ]
    },
    {
      "cell_type": "code",
      "source": [
        "!ls /usr/lib/chromium-browser/"
      ],
      "metadata": {
        "colab": {
          "base_uri": "https://localhost:8080/"
        },
        "id": "IgF8i1SYwe8f",
        "outputId": "2d5adb4d-fb87-41d2-e2aa-a7dc481c0236"
      },
      "execution_count": null,
      "outputs": [
        {
          "output_type": "stream",
          "name": "stdout",
          "text": [
            "chrome_100_percent.pak\t  icudtl.dat\t\tplugins\n",
            "chrome_200_percent.pak\t  libEGL.so\t\tresources.pak\n",
            "chrome_crashpad_handler   libffmpeg.so\t\troot_store_tool\n",
            "chromedriver\t\t  libGLESv2.so\t\tsnapshot_blob.bin\n",
            "chromedriver.debug\t  libs\t\t\tv8_context_snapshot.bin\n",
            "chrome-sandbox\t\t  libvk_swiftshader.so\tvk_swiftshader_icd.json\n",
            "chromium-browser\t  libvulkan.so.1\txdg-mime\n",
            "headless_lib_data.pak\t  locales\t\txdg-settings\n",
            "headless_lib_strings.pak  MEIPreload\n"
          ]
        }
      ]
    },
    {
      "cell_type": "code",
      "source": [
        "from selenium import webdriver\n",
        "from selenium.webdriver.common.by import By"
      ],
      "metadata": {
        "id": "oHU_1NjixHYT"
      },
      "execution_count": null,
      "outputs": []
    },
    {
      "cell_type": "code",
      "source": [
        "options = webdriver.ChromeOptions()\n",
        "#run Selenium in headless mode\n",
        "options.add_argument('--headless')\n",
        "options.add_argument('--no-sandbox')\n",
        "#overcome limited resource problems\n",
        "options.add_argument('--disable-dev-shm-usage')\n",
        "options.add_argument(\"lang=en\")\n",
        "#open Browser in maximized mode\n",
        "options.add_argument(\"start-maximized\")\n",
        "#disable infobars\n",
        "options.add_argument(\"disable-infobars\")\n",
        "#disable extension\n",
        "options.add_argument(\"--disable-extensions\")\n",
        "options.add_argument(\"--incognito\")\n",
        "options.add_argument(\"--disable-blink-features=AutomationControlled\")\n",
        "driver = webdriver.Chrome(options=options)\n",
        "\n",
        "\n",
        "   \n"
      ],
      "metadata": {
        "id": "slyMKl5dxUwT"
      },
      "execution_count": null,
      "outputs": []
    },
    {
      "cell_type": "code",
      "source": [
        "query= input(\"Please Place your search query: \")\n",
        "pageNumber= int(input(\"Number of pages : \"))\n",
        "pageNumber+= 2\n",
        "\n",
        "query = query.replace(' ', '+')\n",
        "x= \"https://www.google.com/search?q=\" +query\n",
        "\n",
        "driver.get(x)\n",
        "data = driver.find_elements(By.XPATH,'//div[@class=\"MjjYud\"]')\n",
        "links=set()\n",
        "\n",
        "#-------------------- Get all url Related to search query-------------------------\n",
        "for j in range(2,pageNumber):\n",
        "    for i in data:\n",
        "        try:\n",
        "            x=(i.find_element(By.XPATH, './/div[@class=\"yuRUbf\"]/a').get_attribute('href'))\n",
        "            links.add(x)\n",
        "        except:\n",
        "            pass\n",
        "    if(j+1==pageNumber):\n",
        "        break\n",
        "    y='//*[@id=\"botstuff\"]/div/div[2]/table/tbody/tr/td['+str(j+1)+']/a'\n",
        "    try:\n",
        "        driver.get(driver.find_element(By.XPATH,y).get_attribute('href'))\n",
        "        data = driver.find_elements(By.XPATH, '//div[@class=\"MjjYud\"]')\n",
        "    except:\n",
        "        break\n",
        "\n",
        "#---------Number of links found for related search query\n",
        "text= ''\n",
        "for link in links:\n",
        "    driver.get(link)\n",
        "    pTagText = driver.find_elements(By.TAG_NAME, \"p\")\n",
        "    for p in pTagText:\n",
        "        text=text+(p.text.strip())\n",
        "driver.close()\n"
      ],
      "metadata": {
        "colab": {
          "base_uri": "https://localhost:8080/"
        },
        "id": "k_Uk9F9A4k75",
        "outputId": "b2bcc134-ab4b-4ef8-d663-c2d013797494"
      },
      "execution_count": null,
      "outputs": [
        {
          "output_type": "stream",
          "name": "stdout",
          "text": [
            "Please Place your search query: BMW\n",
            "Number of pages : 1\n",
            "Bayerische Motoren Werke AG, abbreviated as BMW (German pronunciation: [ˌbeːʔɛmˈveː] (listen)), is a German multinational manufacturer of luxury vehicles and motorcycles headquartered in Munich, Bavaria. The corporation was founded in 1916 as a manufacturer of aircraft engines, which it produced from 1917 until 1918 and again from 1933 to 1945.Automobiles are marketed under the brands BMW, Mini and Rolls-Royce, and motorcycles are marketed under the brand BMW Motorrad. In 2017, BMW was the world's fourteenth-largest producer of motor vehicles, with 2,279,503 vehicles produced.[2] The company has significant motor-sport history, especially in touring cars, sports cars, and the Isle of Man TT.BMW is headquartered in Munich and produces motor vehicles in Germany, Brazil, China, India, Mexico, the Netherlands, South Africa, the United Kingdom, and the United States. The Quandt family is a long-term shareholder of the company (with the remaining shares owned by public float), following investments by the brothers Herbert and Harald Quandt in 1959 which saved the company from bankruptcy.Otto Flugmaschinenfabrik was founded in 1910 by Gustav Otto in Bavaria. The firm was reorganized on 7 March 1916 into Bayerische Flugzeugwerke AG. This company was then renamed to Bayerische Motoren Werke (BMW) in 1922. However the name BMW dates back to 1913, when the original company to use the name was founded by Karl Rapp (initially as Rapp Motorenwerke GmbH). The name and Rapp Motorenwerke's engine-production assets were transferred to Bayerische Flugzeugwerke in 1922, who adopted the name the same year.[3] BMW's first product was a straight-six aircraft engine called the BMW IIIa, designed in the spring of 1917 by engineer Max Friz. Following the end of World War I, BMW remained in business by producing motorcycle engines, farm equipment, household items and railway brakes. The company produced its first motorcycle, the BMW R 32 in 1923.BMW became an automobile manufacturer in 1928 when it purchased Fahrzeugfabrik Eisenach, which, at the time, built Austin Sevens under licence under the Dixi marque.[4] The first car sold as a BMW was a rebadged Dixi called the BMW 3/15, following BMW's acquisition of the car manufacturer Automobilwerk Eisenach. Throughout the 1930s, BMW expanded its range into sports cars and larger luxury cars.Aircraft engines, motorcycles, and automobiles would be BMW's main products until World War II. During the war, BMW concentrated on aircraft engine production using as many as 40,000 slave laborers.[5] These consisted primarily of prisoners from concentration camps, most prominently Dachau. Motorcycles remained as a side-line and automobile manufacture ceased altogether.BMW's factories were heavily bombed during the war and its remaining West German facilities were banned from producing motor vehicles or aircraft after the war. Again, the company survived by making pots, pans, and bicycles. In 1948, BMW restarted motorcycle production. BMW resumed car production in Bavaria in 1952 with the BMW 501 luxury saloon. The range of cars was expanded in 1955, through the production of the cheaper Isetta microcar under licence. Slow sales of luxury cars and small profit margins from microcars meant BMW was in serious financial trouble and in 1959 the company was nearly taken over by rival Daimler-Benz.A large investment in BMW by Herbert Quandt and Harald Quandt resulted in the company surviving as a separate entity. The Quandts' father, Günther Quandt, was a well-known German industrialist. Quandt joined the Nazi party in 1933 and made a fortune arming the German Wehrmacht, manufacturing weapons and batteries.[6][better source needed] Many of his enterprises were appropriated from Jewish owners under duress with minimal compensation. At least three of his enterprises made extensive use of slave laborers, as many as 50,000 in all.[7][better source needed] One of his battery factories had its own on-site concentration camp, complete with gallows. Life expectancy for laborers was six months.[8] While Quandt and BMW were not directly connected during the war, funds amassed in the Nazi era by his father allowed Herbert Quandt to buy BMW.[5]The BMW 700 was successful and assisted in the company's recovery.The 1962 introduction of the BMW New Class compact sedans was the beginning of BMW's reputation as a leading manufacturer of sport-oriented cars. Throughout the 1960s, BMW expanded its range by adding coupe and luxury sedan models. The BMW 5 Series mid-size sedan range was introduced in 1972, followed by the BMW 3 Series compact sedans in 1975, the BMW 6 Series luxury coupes in 1976 and the BMW 7 Series large luxury sedans in 1978.The BMW M division released its first road car, a mid-engine supercar, in 1978. This was followed by the BMW M5 in 1984 and the BMW M3 in 1986. Also in 1986, BMW introduced its first V12 engine in the 750i luxury sedan.The company purchased the Rover Group in 1994, however the takeover was not successful and was causing BMW large financial losses. In 2000, BMW sold off most of the Rover brands, retaining only the Mini brand.In 1998, BMW also acquired the rights to the Rolls-Royce brand from Vickers Plc.The 1995 BMW Z3 expanded the line-up to include a mass-production two-seat roadster and the 1999 BMW X5 was the company's entry into the SUV market.The first modern mass-produced turbocharged petrol engine was introduced in 2006, (from 1973 to 1975, BMW built 1672 units of a turbocharged M10 engine for the BMW 2002 turbo),[9] with most engines switching over to turbocharging over the 2010s. The first hybrid BMW was the 2010 BMW ActiveHybrid 7, and BMW's first mass-production electric car was the BMW i3 city car, which was released in 2013, (from 1968 to 1972, BMW built two battery-electric BMW 1602 Elektro saloons for the 1972 Olympic Games).[10] After many years of establishing a reputation for sporting rear-wheel drive cars, BMW's first front-wheel drive car was the 2014 BMW 2 Series Active Tourer multi-purpose vehicle (MPV).In January 2021, BMW announced that its sales in 2020 fell by 8.4% due to the impact of the COVID-19 pandemic and the restrictions. However, in the fourth quarter of 2020, BMW witnessed a rise of 3.2% of its customers' demands.[11]On 18 January 2022, BMW announced a new limited edition M760Li xDrive simply called \"The Final V12,\"[12] the last BMW series production vehicle to be fitted with a V-12 engine.[12]BMW and Toyota aim to sell jointly-developed hydrogen fuel cell vehicles as soon as 2025.[13][14]BMW is an abbreviation for Bayerische Motoren Werke (German pronunciation: [ˈbaɪ̯ʁɪʃə mɔˈtʰɔʁn̩ ˈvɛɐ̯kə]). This name is grammatically incorrect (in German, compound words must not contain spaces), which is why the name's grammatically correct form Bayerische Motorenwerke (German pronunciation: [ˈbaɪ̯ʁɪʃə mɔˈtʰɔʁn̩vɛɐ̯kə] (listen)) has been used in several publications and advertisements in the past.[15][16] Bayerische Motorenwerke translates into English as Bavarian Motor Works.[17] The suffix AG, short for Aktiengesellschaft, signifies an incorporated entity which is owned by shareholders, thus akin to \"Inc.\" (US) or PLC, \"Public Limited Company\" (UK).The terms Beemer, Bimmer and Bee-em are sometimes used as slang for BMW in the English language[18][19] and are sometimes used interchangeably for cars and motorcycles.[20][21][22]The circular blue and white BMW logo or roundel evolved from the circular Rapp Motorenwerke company logo, which featured a black ring bearing the company name surrounding the company logo,[23] on a plinth a horse's head couped.[24]BMW retained Rapp's black ring inscribed with the company name, but adopted as the central element a circular escutcheon bearing a quasi-heraldic reference to the coat of arms (and flag) of the Free State of Bavaria (as the state of their origin was named after 1918), being the arms of the House of Wittelsbach, Dukes and Kings of Bavaria.[23] However, as the local law regarding trademarks forbade the use of state coats of arms or other symbols of sovereignty on commercial logos, the design was sufficiently differentiated to comply, but retained the tinctures azure (blue) and argent (white).[23][25][26]The current iteration of the logo was introduced in 2020,[27] removing 3D effects that had been used in renderings of the logo, and also removing the black outline encircling the rondel. The logo will be used on BMW's branding but will not be used on vehicles.[28][29]Logo used in vehiclesThe logo on a BMW carLogo used for publicity purposes since March 2020The origin of the logo as a portrayal of the movement of an aircraft propeller, the BMW logo with the white blades seeming to cut through a blue sky, is a myth which sprang from a 1929 BMW advertisement depicting the BMW emblem overlaid on a rotating propeller, with the quarters defined by strobe-light effect, a promotion of an aircraft engine then being built by BMW under license from Pratt & Whitney.[23]For a long time, BMW made little effort to correct the myth that the BMW badge is a propellerIt is well established that this propeller portrayal was first used in a BMW advertisement in 1929 – twelve years after the logo was created – so this is not the true origin of the logo.[30]The slogan 'The Ultimate Driving Machine' was first used in North America in 1974.[31][32] In 2010, this long-lived campaign was mostly supplanted by a campaign intended to make the brand more approachable and to better appeal to women, 'Joy'. By 2012 BMW had returned to 'The Ultimate Driving Machine'.[33]For the fiscal year 2017, BMW reported earnings of EUR 8.620 billion, with an annual revenue of EUR 98.678 billion, an increase of 4.8% over the previous fiscal cycle.[34] BMW's shares traded at over €77 per share, and its market capitalization was valued at US 55.3 billion in November 2018.[35]BMW began production of motorcycle engines and then motorcycles after World War I.[36] Its motorcycle brand is now known as BMW Motorrad. Their first successful motorcycle after the failed Helios and Flink, was the \"R32\" in 1923, though production originally began in 1921.[37] This had a \"boxer\" twin engine, in which a cylinder projects into the air-flow from each side of the machine. Apart from their single-cylinder models (basically to the same pattern), all their motorcycles used this distinctive layout until the early 1980s. Many BMW's are still produced in this layout, which is designated the R Series.The entire BMW Motorcycle production has, since 1969, been located at the company's Berlin-Spandau factory.During the Second World War, BMW produced the BMW R75 motorcycle with a motor-driven sidecar attached, combined with a lockable differential, this made the vehicle very capable off-road.[38][39]In 1982, came the K Series, shaft drive but water-cooled and with either three or four cylinders mounted in a straight line from front to back. Shortly after, BMW also started making the chain-driven F and G series with single and parallel twin Rotax engines.In the early 1990s, BMW updated the airhead Boxer engine which became known as the oilhead. In 2002, the oilhead engine had two spark plugs per cylinder. In 2004 it added a built-in balance shaft, an increased capacity to 1,170 cc (71 cu in) and enhanced performance to 75 kW (101 hp) for the R1200GS, compared to 63 kW (84 hp) of the previous R1150GS. More powerful variants of the oilhead engines are available in the R1100S and R1200S, producing 73 and 91 kW (98 and 122 hp), respectively.In 2004, BMW introduced the new K1200S Sports Bike which marked a departure for BMW. It had an engine producing 125 kW (168 hp), derived from the company's work with the Williams F1 team, and is lighter than previous K models. Innovations include electronically adjustable front and rear suspension, and a Hossack-type front fork that BMW calls Duolever.BMW introduced anti-lock brakes on production motorcycles starting in the late 1980s. The generation of anti-lock brakes available on the 2006 and later BMW motorcycles paved the way for the introduction of electronic stability control, or anti-skid technology later in the 2007 model year.BMW has been an innovator in motorcycle suspension design, taking up telescopic front suspension long before most other manufacturers. Then they switched to an Earles fork, front suspension by swinging fork (1955 to 1969). Most modern BMWs are truly rear swingarm, single sided at the back (compare with the regular swinging fork usually, and wrongly, called swinging arm). Some BMWs started using yet another trademark front suspension design, the Telelever, in the early 1990s. Like the Earles fork, the Telelever significantly reduces dive under braking.BMW Group, on 31 January 2013, announced that Pierer Industrie AG has bought Husqvarna Motorcycles for an undisclosed amount, which will not be revealed by either party in the future. The company is headed by Stephan Pierer (CEO of KTM). Pierer Industrie AG is 51% owner of KTM and 100% owner of Husqvarna.In September 2018, BMW unveiled a new self-driving motorcycle with BMW Motorrad with a goal of using the technology to help improve road safety.[40] The design of the bike was inspired by the company's BMW R1200 GS model.[41]The current model lines of BMW cars are:1 Series (F40)2 Series Gran Coupé (F44)2 Series (G42)3 Series (G20)4 Series (G22)5 Series (G30)6 Series (G32)7 Series (G12)8 Series (G15)The current model lines of the X Series SUVs and crossovers are:X1 (F48)X2 (F39)X3 (G01)X4 (G02)X5 (G05)X6 (G06)X7 (G07)The current model line of the Z Series two-door roadsters is the Z4 (model code G29).Z4 (G29)All-electric vehicles and plug-in hybrid vehicles are sold under the BMW i sub-brand. The current model range consists of:i4iX3iXIn addition, several plug-in hybrid models built on existing platforms have been marketed as iPerformance models. Examples include the 225xe using a 1.5 L three-cylinder turbocharged petrol engine with an electric motor, the 330e/530e using a 2.0 L four-cylinder engine with an electric motor, and the 740e using a 2.0 litre turbocharged petrol engine with an electric motor.[43] Also, crossover and SUV plug-in hybrid models have been released using i technology: X1 xDrive25e, X2 xDrive25e, X3 xDrive30e, and X5 xDrive40e.[44]The BMW M GmbH subsidiary (called BMW Motorsport GmbH until 1993) started making high-performance versions of various BMW models in 1978.As of September 2022, the M lineup is:[45]M2M3M4M5M8X3 MX4 MX5 MX6 MThe letter \"M\" is also often used in the marketing of BMW's regular models, for example the F20 M140i model, the G11 M760Li model and various optional extras called \"M Sport\", \"M Performance\" or similar.BMW has a long history of motorsport activities, including:2016 BMW M4 DTM2016 BMW M6 GT32016 BMW S1000RRIn 1975, sculptor Alexander Calder was commissioned to paint the BMW 3.0 CSL racing car driven by Hervé Poulain at the 24 Hours of Le Mans, which became the first in the series of BMW Art Cars. Since Calder's work of art, many other renowned artists throughout the world have created BMW Art Cars, including David Hockney, Jenny Holzer, Roy Lichtenstein, Robert Rauschenberg, Frank Stella, and Andy Warhol.[49] To date, a total of 19 BMW Art Cars, based on both racing and regular production vehicles, have been created.1975 3.0 CSL Art Car by Alexander Calder1979 M1 Art Car by Andy WarholThe global BMW Headquarters in Munich represents the cylinder head of a 4-cylinder engine. It was designed by Karl Schwanzer and was completed in 1972. The building has become a European icon[49] and was declared a protected historic building in 1999. The main tower consists of four vertical cylinders standing next to and across from each other. Each cylinder is divided horizontally in its center by a mold in the facade. Notably, these cylinders do not stand on the ground; they are suspended on a central support tower.BMW Museum is a futuristic cauldron-shaped building, which was also designed by Karl Schwanzer and opened in 1972.[50] The interior has a spiral theme and the roof is a 40-metre diameter BMW logo.BMW Welt, the company's exhibition space in Munich, was designed by Coop Himmelb(l)au and opened in 2007. It includes a showroom and lifting platforms where a customer's new car is theatrically unveiled to the customer.[51]BMW MuseumBMW WeltIn 2001 and 2002, BMW produced a series of 8 short films called The Hire, which had plots based around BMW models being driven to extremes by Clive Owen.[52] The directors for The Hire included Guy Ritchie, John Woo, John Frankenheimer and Ang Lee. In 2016, a ninth film in the series was released.The 2006 \"BMW Performance Series\" was a marketing event geared to attract black car buyers. It consisted of seven concerts by jazz musician Mike Phillips, and screenings of films by black filmmakers.[53][54]BMW was the principal sponsor of the 1998 The Art of the Motorcycle exhibition at various Guggenheim museums, though the financial relationship between BMW and the Guggenheim Foundation was criticised in many quarters.[55][56]In 2012, BMW began sponsoring Independent Collectors production of the BMW Art Guide, which is the first global guide to private and publicly accessible collections of contemporary art worldwide.[57] The fourth edition, released in 2016, features 256 collections from 43 countries.[58]BMW produces complete automobiles in the following countries:BMW also has local assembly operation using complete knock-down (CKD) components in Thailand, Russia, Egypt, Indonesia, Malaysia and India.[62]In the UK, BMW has a Mini factory near Oxford, plants in Swindon and Hams Hall, and Rolls-Royce vehicle assembly at Goodwood. In 2020, these facilities were shut down for the period from March 23 to April 17 due to the coronavirus outbreak.[63]The BMW group (including Mini and Rolls-Royce) produced 1,366,838 automobiles in 2006 and then 1,481,253 automobiles in 2010.[64][65] BMW Motorcycles are being produced at the company's Berlin factory, which earlier had produced aircraft engines for Siemens.By 2011, about 56% of BMW-brand vehicles produced are powered by petrol engines and the remaining 44% are powered by diesel engines. Of those petrol vehicles, about 27% are four-cylinder models and about nine percent are eight-cylinder models.[66] On average, 9,000 vehicles per day exit BMW plants, and 63% are transported by rail.[67]Annual production since 2005, according to BMW's annual reports:[65]Annual sales since 2005, according to BMW's annual reports:* In 2008–2012, motorcycle productions figures include Husqvarna models.\n",
            "** Excluding Husqvarna, sales volume up to 2013: 59,776 units.In November 2016, BMW recalled 136,000 2007–2012 model year U.S. cars for fuel pump wiring problems possibly resulting in fuel leak and engine stalling or restarting issues.[68]In 2018, BMW recalled 106,000 diesel vehicles in South Korea with a defective exhaust gas recirculation module, which caused 39 engine fires. The recall was then expanded to 324,000 more cars in Europe.[69] Following the recall in South Korea, the government banned cars which had not yet been inspected from driving on public roads.[70] This affected up to 25% of the recalled cars, where the owners had been notified but the cars had not yet been inspected. BMW is reported to have been aware since 2016 that more than 4% of the affected cars in South Korea had experienced failures in the EGR coolers,[71] leading to approximately 20 owners suing the company.[72]BMW has collaborated with other car manufacturers on the following occasions:BMW made a six-year sponsorship deal with the United States Olympic Committee in July 2010.[84][85]In golf, BMW has sponsored various events,[86] including the PGA Championship since 2007,[87][88] the Italian Open from 2009 to 2012, the BMW Masters in China from 2012 to 2015[89][90] and the BMW International Open in Munich since 1989.[91]In rugby, BMW sponsored the South Africa national rugby union team from 2011 to 2015.[92][93]BMW is a charter member of the U.S. Environmental Protection Agency's (EPA) National Environmental Achievement Track, which recognizes companies for their environmental stewardship and performance.[94] It is also a member of the South Carolina Environmental Excellence Program.[95]Since 1999, BMW has been named the world's most sustainable automotive company every year by the Dow Jones Sustainability Index.[96] The BMW Group is one of three automotive companies to be featured every year in the index.[97] In 2001, the BMW Group committed itself to the United Nations Environment Programme, the UN Global Compact and the Cleaner Production Declaration. It was also the first company in the automotive industry to appoint an environmental officer, in 1973.[98] BMW is a member of the World Business Council for Sustainable Development.[99]In 2012, BMW was the highest automotive company in the Carbon Disclosure Project's Global 500 list, with a score of 99 out of 100.[100][101] The BMW Group was rated the most sustainable DAX 30 company by Sustainalytics in 2012.[102]To reduce vehicle emissions, BMW is improving the efficiency of existing fossil-fuel powered models, while researching electric power, hybrid power and hydrogen for future models.[103]During the first quarter of 2018, BMW sold 26,858 Electrified Vehicles (EVs, PHEVs, & Hybrids).[104]DriveNow was a joint-venture between BMW and Sixt that operated from in Europe from 2011 until 2019. By December 2012,[105] DriveNow operated over 1,000 vehicles, in five cities and with approximately 60,000 customers.[106]In 2012, the BMW-owned subsidiary Alphabet began a corporate car-sharing service in Europe called AlphaCity.[107][108]The ReachNow car-sharing service was launched in Seattle in April 2016.[109] ReachNow currently operates in Seattle, Portland and Brooklyn.In 2018, BMW announced the launching of a pilot car subscription service for the United States called Access by BMW (its first one for the country), in Nashville, Tennessee. In January 2021, the company said that Access by BMW was \"suspended\".[110]The first BMW production facility in China was opened in 2004, as a result of a joint venture between BMW and Brilliance Auto.[111][112] The plant was opened in the Shenyang industrial area and produces 3 Series and 5 Series models for the Chinese market.[113][114] In 2012, a second factory was opened in Shenyang.[115]Between January and November 2014, BMW sold 415,200 vehicles in China, through a network of over 440 BMW stores and 100 Mini stores.[116]On 7 October 2021, BMW announced to be moving the production of the X5 from the United States to China.[117]In February 2022, BMW invested an additional $4.2 billion into the Chinese joint venture, increasing its stake from 50% to 75%, becoming one of the first foreign automakers holding majority stake in China.[118]In June 2022, BMW announced a new plant project in Lydia, Shenyang designed for electric vehicles. It will become BMW Group's largest single project in China, costing 15 billion yuan (2.13 billion euros).[119] The investment amount was raised by a further 10 billion yuan (US$1.4 billion) in November 2022, following German Chancellor Olaf Scholz's visit to China.[120]On 31 July 2018, BMW announced to build 1 billion euro car factory in Hungary. The plant, to be built near Debrecen, will have a production capacity of 150,000 cars a year.[121]In July 2014, BMW announced it was establishing a plant in Mexico, in the city and state of San Luis Potosi involving an investment of $1 billion. The plant will employ 1,500 people, and produce 150,000 cars annually.[122]The Mini Convertible, Mini Countryman and BMW X1 are currently produced in the Netherlands at the VDL Nedcar factory in Born.[123][124] Long-term orders for the Mini Countryman ended in 2020.[125]BMWs have been assembled in South Africa since 1968,[126] when Praetor Monteerders' plant was opened in Rosslyn, near Pretoria. BMW initially bought shares in the company, before fully acquiring it in 1975; in so doing, the company became BMW South Africa, the first wholly owned subsidiary of BMW to be established outside Germany. Unlike United States manufacturers, such as Ford and GM, which divested from the country in the 1980s, BMW retained full ownership of its operations in South Africa.Following the end of apartheid in 1994, and the lowering of import tariffs, BMW South Africa ended local production of the 5 Series and 7 Series, in order to concentrate on production of the 3 Series for the export market. South African–built BMWs are now exported to right hand drive markets including Japan, Australia, New Zealand, the United Kingdom, Indonesia, Malaysia, Singapore, and Hong Kong, as well as Sub-Saharan Africa. Since 1997, BMW South Africa has produced vehicles in left-hand drive for export to Taiwan, the United States and Iran, as well as South America.Three unique models that BMW Motorsport created for the South African market were the E23 M745i (1983), which used the M88 engine from the BMW M1, the BMW 333i (1986), which added a six-cylinder 3.2-litre M30 engine to the E30,[127] and the E30 BMW 325is (1989) which was powered by an Alpina-derived 2.7-litre engine.The plant code (position 11 in the VIN) for South African built models is \"N\".[128]BMW cars have been officially sold in the United States since 1956[129] and manufactured in the United States since 1994.[130] The first BMW dealership in the United States opened in 1975.[131] In 2016, BMW was the twelfth highest selling brand in the United States.[132]The manufacturing plant in Greer, South Carolina has the highest production of the BMW plants worldwide,[133] currently producing approximately 1,500 vehicles per day.[134] The models produced at the Spartanburg plant are the X3, X4, X6 and X7 SUV models. The X5 model's production was announced to be moving to China in December 2021.[117]In addition to the South Carolina manufacturing facility, BMW's North American companies include sales, marketing, design, and financial services operations in the United States, Mexico, Canada and Latin America.On 9 October 2014, BMW's new complete knock-down (CKD) assembly plant in Araquari, assembled its first car— an F30 3 Series.[135][136]The cars assembled at Araquari are the F20 1 Series, F30 3 Series, F48 X1, F25 X3 and Mini Countryman.[137]Bavarian Auto Group became the importer of the BMW and Mini brands in 2003.Since 2005, the 3 Series, 5 Series, 7 Series, X1 and X3 models sold in Egypt are assembled from complete knock-down components at the BMW plant in 6th of October City.[137]BMW India was established in 2006 as a sales subsidiary with a head office located in Gurugram.A BMW complete knock-down assembly plant was opened in Chennai in 2007, assembling Indian-market 3 Series, 5 Series, 7 Series, X1, X3, X5, Mini Countryman and motorcycle models.[137][138] The 20 Million Euro plant aims to produce 1,700 cars per year.Russian-market 3 Series and 5 Series cars are assembled from complete knock-down components in Kaliningrad beginning in 1999.[139] In March 2022, BMW left Russian market and stopped importing and producing cars in Russia due to International sanctions during the Russo-Ukrainian War.[140]BMW's complete knock-down (CKD) assembly plant in Kedah. Assembled Malaysia-market 1 Series, 3 Series, 5 Series, 7 Series, X1, X3, X4, X5, X6 and Mini Countryman since 2008.[141]BMW's first dealership in Canada, located in Ottawa, was opened in 1969.[142] In 1986, BMW established a head office in Canada.[143]BMW sold 28,149 vehicles in Canada in 2008.[144]BMW Japan Corp, a wholly owned subsidiary, imports and distributes BMW vehicles in Japan.[145]BMW Philippines, an owned subsidiary of San Miguel Corporation, is the official importer and distributor of BMW in the Philippines.[146]BMW sold 920 vehicles in the Philippines in 2019.[147]BMW Korea imports BMW vehicles in South Korea with more than fifty service centers to fully accomplish to South Korean customers. Also, BMW Korea has its own driving center in Incheon.[148]Sheer Driving Pleasure\"Changing Lanes” is the official podcast of BMW. Featuring new episodes each week, in which our hosts take you on exciting journeys and talk about innovative technologies, lifestyle, design, cars and more. Find and subscribe to Changing Lanes on all major podcasting platforms.\n"
          ]
        }
      ]
    },
    {
      "cell_type": "code",
      "source": [
        "#a='''Yeah. Yeah, sure. It kinda does make sense, doesn't it, because when we get into the end of meeting we're kind of talking about action and design as opposed to background'''\n",
        "file = open('Text.txt','w')\n",
        "file.write(text)\n",
        "file.close()\n"
      ],
      "metadata": {
        "id": "rlpivKve7feO"
      },
      "execution_count": null,
      "outputs": []
    },
    {
      "cell_type": "code",
      "source": [
        "!pip install transformers[sentencepiece]\n"
      ],
      "metadata": {
        "colab": {
          "base_uri": "https://localhost:8080/"
        },
        "id": "dw-JEl0OIyl4",
        "outputId": "026e5954-c327-419e-8260-d39909fda1e1"
      },
      "execution_count": null,
      "outputs": [
        {
          "output_type": "stream",
          "name": "stdout",
          "text": [
            "Looking in indexes: https://pypi.org/simple, https://us-python.pkg.dev/colab-wheels/public/simple/\n",
            "Requirement already satisfied: transformers[sentencepiece] in /usr/local/lib/python3.8/dist-packages (4.25.1)\n",
            "Requirement already satisfied: regex!=2019.12.17 in /usr/local/lib/python3.8/dist-packages (from transformers[sentencepiece]) (2022.6.2)\n",
            "Requirement already satisfied: numpy>=1.17 in /usr/local/lib/python3.8/dist-packages (from transformers[sentencepiece]) (1.21.6)\n",
            "Requirement already satisfied: filelock in /usr/local/lib/python3.8/dist-packages (from transformers[sentencepiece]) (3.8.2)\n",
            "Requirement already satisfied: huggingface-hub<1.0,>=0.10.0 in /usr/local/lib/python3.8/dist-packages (from transformers[sentencepiece]) (0.11.1)\n",
            "Requirement already satisfied: tqdm>=4.27 in /usr/local/lib/python3.8/dist-packages (from transformers[sentencepiece]) (4.64.1)\n",
            "Requirement already satisfied: requests in /usr/local/lib/python3.8/dist-packages (from transformers[sentencepiece]) (2.23.0)\n",
            "Requirement already satisfied: packaging>=20.0 in /usr/local/lib/python3.8/dist-packages (from transformers[sentencepiece]) (21.3)\n",
            "Requirement already satisfied: tokenizers!=0.11.3,<0.14,>=0.11.1 in /usr/local/lib/python3.8/dist-packages (from transformers[sentencepiece]) (0.13.2)\n",
            "Requirement already satisfied: pyyaml>=5.1 in /usr/local/lib/python3.8/dist-packages (from transformers[sentencepiece]) (6.0)\n",
            "Requirement already satisfied: protobuf<=3.20.2 in /usr/local/lib/python3.8/dist-packages (from transformers[sentencepiece]) (3.19.6)\n",
            "Collecting sentencepiece!=0.1.92,>=0.1.91\n",
            "  Downloading sentencepiece-0.1.97-cp38-cp38-manylinux_2_17_x86_64.manylinux2014_x86_64.whl (1.3 MB)\n",
            "\u001b[K     |████████████████████████████████| 1.3 MB 7.4 MB/s \n",
            "\u001b[?25hRequirement already satisfied: typing-extensions>=3.7.4.3 in /usr/local/lib/python3.8/dist-packages (from huggingface-hub<1.0,>=0.10.0->transformers[sentencepiece]) (4.4.0)\n",
            "Requirement already satisfied: pyparsing!=3.0.5,>=2.0.2 in /usr/local/lib/python3.8/dist-packages (from packaging>=20.0->transformers[sentencepiece]) (3.0.9)\n",
            "Requirement already satisfied: urllib3!=1.25.0,!=1.25.1,<1.26,>=1.21.1 in /usr/local/lib/python3.8/dist-packages (from requests->transformers[sentencepiece]) (1.25.11)\n",
            "Requirement already satisfied: idna<3,>=2.5 in /usr/local/lib/python3.8/dist-packages (from requests->transformers[sentencepiece]) (2.10)\n",
            "Requirement already satisfied: chardet<4,>=3.0.2 in /usr/local/lib/python3.8/dist-packages (from requests->transformers[sentencepiece]) (3.0.4)\n",
            "Requirement already satisfied: certifi>=2017.4.17 in /usr/local/lib/python3.8/dist-packages (from requests->transformers[sentencepiece]) (2022.12.7)\n",
            "Installing collected packages: sentencepiece\n",
            "Successfully installed sentencepiece-0.1.97\n"
          ]
        }
      ]
    },
    {
      "cell_type": "code",
      "source": [
        "from transformers import AutoTokenizer, AutoModelForSeq2SeqLM\n",
        "\n",
        "checkpoint = \"facebook/bart-large-cnn\"\n",
        "\n",
        "tokenizer = AutoTokenizer.from_pretrained(checkpoint)\n",
        "model = AutoModelForSeq2SeqLM.from_pretrained(checkpoint)"
      ],
      "metadata": {
        "colab": {
          "base_uri": "https://localhost:8080/",
          "height": 177,
          "referenced_widgets": [
            "820fb6bf90c146199660f5b0fbca036f",
            "488eabe07a474cbd9dda278cfb2d35e0",
            "8734f9c7e5a041d3bec8c48b7a94321b",
            "ac5f6ff4e2d34d36902fb236d4b1de42",
            "443fcfc0c5b74165977b95c607e5ac5e",
            "66cccb1dd12d43b6b71a08fbecdbfe99",
            "c87cfd0753704d3c8a1911bcccce9702",
            "cc9c4a3886f34f7088b79111cb22aaba",
            "104ac6c60594410a843aef5d19f4607c",
            "e6c197a0902746f282f549f6effb153b",
            "89ee44f536d2459bb6bdb53085662815",
            "9013f719e36240699812f5d8d3bb602e",
            "ac89c06efac444b3878161dbc3871dd8",
            "d1a4fbeb02804c3088299500a08ea216",
            "3d1ce908736d4930ae7a4182c7d39551",
            "93a04190b6ec413d83c037a09c49535c",
            "0b861c39b68749f8b45bc6e15b70e494",
            "a4d62370d6b24924a2a0ab4b7ce8aca7",
            "9b6691ed53aa41918b51532d42c7966f",
            "04d73bc915b24dc6a790212599c488e7",
            "74e8e9987959442ea8c18414ae07ae92",
            "1dd05953e77145dc9987e31b95d55ded",
            "e3a00cf18ef9434b99f845c0b2d56dd5",
            "4b983af2d72a470c81d734d956bdf647",
            "ed3bd43d04bb4259b2907beb380c5e5d",
            "1370d819cf714c2cbb766304196c59d9",
            "441c313cf8bb4a8db9ddb279233bd71e",
            "c75e35d9f5ee430280c333aaf4945eae",
            "4c83ec0e1e4b48159094c0081f06c625",
            "d1c95c3d9afd44fea51681d4db04968f",
            "522ca6dfe2754e48a49c9ef5858e32b2",
            "7d7a94100d0544f58c34c26d632675b6",
            "61bf8a553459445e9b90fceea43d096a",
            "e3db17ba24b84876951d20505e31b798",
            "e1b107f1a8a848fd99fa4c0bcbc46f46",
            "0186b1e3cf774d5197bda315a273efe1",
            "aee4c6fcfaff49acb4bbc1f4d9b850d4",
            "8899a19b07f04ab9a892708e2c8f9a82",
            "4165e4aab5ff453f92a20f28d2f8508c",
            "25a72d1f6b72415e8b77ae5d53804108",
            "5aa2d6daf86e4e498d0813799259fd09",
            "cdccb5a47b53493e8497c9d87aa26d07",
            "345fb50f66a243d0b29a225630702894",
            "56f9e4e6b24f42ee80fe4409c1174bc8",
            "9de8f35c9f8048169b48acc408cf714f",
            "8e7f0015d370496fac1840afefd6a734",
            "d3864dbf8a834a8e935c88fb9af7b98f",
            "674aab6d0e9f46a0a73055474ea7b157",
            "c1301a5186df437aa59bc6a5674b9306",
            "0c79ff0ca9f441ffb2261c77094484e9",
            "6a94030edffd4de4adbf540c85521948",
            "08d3822de2954715af9fbc83c52fca18",
            "391ee2430be1458cb6b7f8dc9a5bd209",
            "768a25922a7b4ae5bc81596f93a7cb1d",
            "093788a3cd524461ada38f6f047f01ee"
          ]
        },
        "id": "FbYraYqYKTbX",
        "outputId": "38598370-d7f6-45f8-d409-7ec3fb6926b2"
      },
      "execution_count": null,
      "outputs": [
        {
          "output_type": "display_data",
          "data": {
            "text/plain": [
              "Downloading:   0%|          | 0.00/1.58k [00:00<?, ?B/s]"
            ],
            "application/vnd.jupyter.widget-view+json": {
              "version_major": 2,
              "version_minor": 0,
              "model_id": "820fb6bf90c146199660f5b0fbca036f"
            }
          },
          "metadata": {}
        },
        {
          "output_type": "display_data",
          "data": {
            "text/plain": [
              "Downloading:   0%|          | 0.00/899k [00:00<?, ?B/s]"
            ],
            "application/vnd.jupyter.widget-view+json": {
              "version_major": 2,
              "version_minor": 0,
              "model_id": "9013f719e36240699812f5d8d3bb602e"
            }
          },
          "metadata": {}
        },
        {
          "output_type": "display_data",
          "data": {
            "text/plain": [
              "Downloading:   0%|          | 0.00/456k [00:00<?, ?B/s]"
            ],
            "application/vnd.jupyter.widget-view+json": {
              "version_major": 2,
              "version_minor": 0,
              "model_id": "e3a00cf18ef9434b99f845c0b2d56dd5"
            }
          },
          "metadata": {}
        },
        {
          "output_type": "display_data",
          "data": {
            "text/plain": [
              "Downloading:   0%|          | 0.00/1.36M [00:00<?, ?B/s]"
            ],
            "application/vnd.jupyter.widget-view+json": {
              "version_major": 2,
              "version_minor": 0,
              "model_id": "e3db17ba24b84876951d20505e31b798"
            }
          },
          "metadata": {}
        },
        {
          "output_type": "display_data",
          "data": {
            "text/plain": [
              "Downloading:   0%|          | 0.00/1.63G [00:00<?, ?B/s]"
            ],
            "application/vnd.jupyter.widget-view+json": {
              "version_major": 2,
              "version_minor": 0,
              "model_id": "9de8f35c9f8048169b48acc408cf714f"
            }
          },
          "metadata": {}
        }
      ]
    },
    {
      "cell_type": "code",
      "source": [
        "tokenizer.model_max_length "
      ],
      "metadata": {
        "colab": {
          "base_uri": "https://localhost:8080/"
        },
        "id": "ufbzbeazLiIt",
        "outputId": "e5b938ad-6f7c-40cc-c94e-ebd67df40d64"
      },
      "execution_count": null,
      "outputs": [
        {
          "output_type": "execute_result",
          "data": {
            "text/plain": [
              "1024"
            ]
          },
          "metadata": {},
          "execution_count": 3
        }
      ]
    },
    {
      "cell_type": "code",
      "source": [
        "tokenizer.model_max_length "
      ],
      "metadata": {
        "colab": {
          "base_uri": "https://localhost:8080/"
        },
        "id": "cPYVVgc9Lm69",
        "outputId": "92de9aab-3ea0-48ff-bd3e-ab68a7628032"
      },
      "execution_count": null,
      "outputs": [
        {
          "output_type": "execute_result",
          "data": {
            "text/plain": [
              "1024"
            ]
          },
          "metadata": {},
          "execution_count": 4
        }
      ]
    },
    {
      "cell_type": "code",
      "source": [
        "tokenizer.num_special_tokens_to_add() "
      ],
      "metadata": {
        "colab": {
          "base_uri": "https://localhost:8080/"
        },
        "id": "oWYrYzmRLqu3",
        "outputId": "de8b2296-610b-4c20-8db0-b15cfece71b0"
      },
      "execution_count": null,
      "outputs": [
        {
          "output_type": "execute_result",
          "data": {
            "text/plain": [
              "2"
            ]
          },
          "metadata": {},
          "execution_count": 5
        }
      ]
    },
    {
      "cell_type": "code",
      "source": [
        "import nltk\n",
        "nltk.download('punkt')\n",
        "sentences = nltk.tokenize.sent_tokenize(text)"
      ],
      "metadata": {
        "colab": {
          "base_uri": "https://localhost:8080/",
          "height": 235
        },
        "id": "wRuvzaqDL-0X",
        "outputId": "7d4f24c7-2379-4660-ea6d-d5da010c655e"
      },
      "execution_count": null,
      "outputs": [
        {
          "output_type": "stream",
          "name": "stderr",
          "text": [
            "[nltk_data] Downloading package punkt to /root/nltk_data...\n",
            "[nltk_data]   Unzipping tokenizers/punkt.zip.\n"
          ]
        },
        {
          "output_type": "error",
          "ename": "NameError",
          "evalue": "ignored",
          "traceback": [
            "\u001b[0;31m---------------------------------------------------------------------------\u001b[0m",
            "\u001b[0;31mNameError\u001b[0m                                 Traceback (most recent call last)",
            "\u001b[0;32m<ipython-input-6-ed967d063dcb>\u001b[0m in \u001b[0;36m<module>\u001b[0;34m\u001b[0m\n\u001b[1;32m      1\u001b[0m \u001b[0;32mimport\u001b[0m \u001b[0mnltk\u001b[0m\u001b[0;34m\u001b[0m\u001b[0;34m\u001b[0m\u001b[0m\n\u001b[1;32m      2\u001b[0m \u001b[0mnltk\u001b[0m\u001b[0;34m.\u001b[0m\u001b[0mdownload\u001b[0m\u001b[0;34m(\u001b[0m\u001b[0;34m'punkt'\u001b[0m\u001b[0;34m)\u001b[0m\u001b[0;34m\u001b[0m\u001b[0;34m\u001b[0m\u001b[0m\n\u001b[0;32m----> 3\u001b[0;31m \u001b[0msentences\u001b[0m \u001b[0;34m=\u001b[0m \u001b[0mnltk\u001b[0m\u001b[0;34m.\u001b[0m\u001b[0mtokenize\u001b[0m\u001b[0;34m.\u001b[0m\u001b[0msent_tokenize\u001b[0m\u001b[0;34m(\u001b[0m\u001b[0mtext\u001b[0m\u001b[0;34m)\u001b[0m\u001b[0;34m\u001b[0m\u001b[0;34m\u001b[0m\u001b[0m\n\u001b[0m",
            "\u001b[0;31mNameError\u001b[0m: name 'text' is not defined"
          ]
        }
      ]
    },
    {
      "cell_type": "code",
      "source": [
        "len(sentences)"
      ],
      "metadata": {
        "id": "DCGSz63NME9G"
      },
      "execution_count": null,
      "outputs": []
    },
    {
      "cell_type": "code",
      "source": [
        "max([len(tokenizer.tokenize(sentence)) for sentence in sentences])"
      ],
      "metadata": {
        "id": "Yf8N795ZMFkO"
      },
      "execution_count": null,
      "outputs": []
    },
    {
      "cell_type": "code",
      "source": [
        "print(tokenizer.max_len_single_sentence)"
      ],
      "metadata": {
        "id": "EMXmcv_bMI2t"
      },
      "execution_count": null,
      "outputs": []
    },
    {
      "cell_type": "code",
      "source": [
        "length = 0\n",
        "chunk = \"\"\n",
        "chunks = []\n",
        "count = -1\n",
        "for sentence in sentences:\n",
        "  count += 1\n",
        "  combined_length = len(tokenizer.tokenize(sentence)) + length # add the no. of sentence tokens to the length counter\n",
        "\n",
        "  if combined_length  <= tokenizer.max_len_single_sentence: # if it doesn't exceed\n",
        "    chunk += sentence + \" \" # add the sentence to the chunk\n",
        "    length = combined_length # update the length counter\n",
        "\n",
        "    # if it is the last sentence\n",
        "    if count == len(sentences) - 1:\n",
        "      chunks.append(chunk.strip()) # save the chunk\n",
        "    \n",
        "  else: \n",
        "    chunks.append(chunk.strip()) # save the chunk\n",
        "    \n",
        "    # reset \n",
        "    length = 0 \n",
        "    chunk = \"\"\n",
        "\n",
        "    # take care of the overflow sentence\n",
        "    chunk += sentence + \" \"\n",
        "    length = len(tokenizer.tokenize(sentence))\n",
        "len(chunks)"
      ],
      "metadata": {
        "id": "70eciiKcMM8G"
      },
      "execution_count": null,
      "outputs": []
    },
    {
      "cell_type": "code",
      "source": [
        "[len(tokenizer.tokenize(c)) for c in chunks]"
      ],
      "metadata": {
        "id": "d2Zql_CCMRT9"
      },
      "execution_count": null,
      "outputs": []
    },
    {
      "cell_type": "code",
      "source": [
        "[len(tokenizer(c).input_ids) for c in chunks]"
      ],
      "metadata": {
        "id": "ANTQeRS9MT5V"
      },
      "execution_count": null,
      "outputs": []
    },
    {
      "cell_type": "code",
      "source": [
        "inputs = [tokenizer(chunk, return_tensors=\"pt\") for chunk in chunks]"
      ],
      "metadata": {
        "id": "XsSp971SMX6N"
      },
      "execution_count": null,
      "outputs": []
    },
    {
      "cell_type": "code",
      "source": [
        "for input in inputs:\n",
        "  output = model.generate(**input)\n",
        "  print(tokenizer.decode(*output, skip_special_tokens=True))"
      ],
      "metadata": {
        "id": "icZy_hOIMbNN"
      },
      "execution_count": null,
      "outputs": []
    }
  ]
}